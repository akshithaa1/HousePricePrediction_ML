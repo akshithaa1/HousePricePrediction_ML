{
  "nbformat": 4,
  "nbformat_minor": 0,
  "metadata": {
    "colab": {
      "provenance": [],
      "include_colab_link": true
    },
    "kernelspec": {
      "name": "python3",
      "display_name": "Python 3"
    },
    "language_info": {
      "name": "python"
    }
  },
  "cells": [
    {
      "cell_type": "markdown",
      "metadata": {
        "id": "view-in-github",
        "colab_type": "text"
      },
      "source": [
        "<a href=\"https://colab.research.google.com/github/akshithaa1/HousePricePrediction_ML/blob/main/House_price_prediction.ipynb\" target=\"_parent\"><img src=\"https://colab.research.google.com/assets/colab-badge.svg\" alt=\"Open In Colab\"/></a>"
      ]
    },
    {
      "cell_type": "code",
      "source": [
        "pip install kaggle"
      ],
      "metadata": {
        "colab": {
          "base_uri": "https://localhost:8080/"
        },
        "id": "mvzhEGPGhROi",
        "outputId": "18254e3b-4e84-4d91-bc04-c6c899d86342",
        "collapsed": true
      },
      "execution_count": 1,
      "outputs": [
        {
          "output_type": "stream",
          "name": "stdout",
          "text": [
            "Requirement already satisfied: kaggle in /usr/local/lib/python3.10/dist-packages (1.6.17)\n",
            "Requirement already satisfied: six>=1.10 in /usr/local/lib/python3.10/dist-packages (from kaggle) (1.16.0)\n",
            "Requirement already satisfied: certifi>=2023.7.22 in /usr/local/lib/python3.10/dist-packages (from kaggle) (2024.8.30)\n",
            "Requirement already satisfied: python-dateutil in /usr/local/lib/python3.10/dist-packages (from kaggle) (2.8.2)\n",
            "Requirement already satisfied: requests in /usr/local/lib/python3.10/dist-packages (from kaggle) (2.32.3)\n",
            "Requirement already satisfied: tqdm in /usr/local/lib/python3.10/dist-packages (from kaggle) (4.66.6)\n",
            "Requirement already satisfied: python-slugify in /usr/local/lib/python3.10/dist-packages (from kaggle) (8.0.4)\n",
            "Requirement already satisfied: urllib3 in /usr/local/lib/python3.10/dist-packages (from kaggle) (2.2.3)\n",
            "Requirement already satisfied: bleach in /usr/local/lib/python3.10/dist-packages (from kaggle) (6.2.0)\n",
            "Requirement already satisfied: webencodings in /usr/local/lib/python3.10/dist-packages (from bleach->kaggle) (0.5.1)\n",
            "Requirement already satisfied: text-unidecode>=1.3 in /usr/local/lib/python3.10/dist-packages (from python-slugify->kaggle) (1.3)\n",
            "Requirement already satisfied: charset-normalizer<4,>=2 in /usr/local/lib/python3.10/dist-packages (from requests->kaggle) (3.4.0)\n",
            "Requirement already satisfied: idna<4,>=2.5 in /usr/local/lib/python3.10/dist-packages (from requests->kaggle) (3.10)\n"
          ]
        }
      ]
    },
    {
      "cell_type": "code",
      "source": [
        "!mkdir -p ~/.kaggle\n",
        "!cp kaggle.json ~/.kaggle/"
      ],
      "metadata": {
        "id": "OxV4s2PwfiEF"
      },
      "execution_count": 4,
      "outputs": []
    },
    {
      "cell_type": "code",
      "source": [
        "!kaggle competitions download -c house-prices-advanced-regression-techniques"
      ],
      "metadata": {
        "colab": {
          "base_uri": "https://localhost:8080/"
        },
        "id": "aiXVGEFonOkt",
        "outputId": "c16cee66-159f-4786-c9a0-20fcc9376f27"
      },
      "execution_count": 5,
      "outputs": [
        {
          "output_type": "stream",
          "name": "stdout",
          "text": [
            "Warning: Your Kaggle API key is readable by other users on this system! To fix this, you can run 'chmod 600 /root/.kaggle/kaggle.json'\n",
            "Downloading house-prices-advanced-regression-techniques.zip to /content\n",
            "  0% 0.00/199k [00:00<?, ?B/s]\n",
            "100% 199k/199k [00:00<00:00, 54.6MB/s]\n"
          ]
        }
      ]
    },
    {
      "cell_type": "code",
      "source": [
        "import zipfile\n",
        "zip_ref = zipfile.ZipFile('/content/house-prices-advanced-regression-techniques.zip', 'r')\n",
        "zip_ref.extractall('/content')\n",
        "zip_ref.close()"
      ],
      "metadata": {
        "id": "KuPbhz72nLG3"
      },
      "execution_count": 6,
      "outputs": []
    },
    {
      "cell_type": "markdown",
      "source": [
        "# **Importing Libraries**"
      ],
      "metadata": {
        "id": "mc-vpyrqhCnT"
      }
    },
    {
      "cell_type": "code",
      "execution_count": 8,
      "metadata": {
        "id": "yxOoHDymKnR1"
      },
      "outputs": [],
      "source": [
        "import warnings\n",
        "warnings.filterwarnings(\"ignore\")\n",
        "import numpy as np\n",
        "import pandas as pd\n",
        "import matplotlib.pyplot as plt\n",
        "import seaborn as sns"
      ]
    },
    {
      "cell_type": "markdown",
      "source": [
        "# **Loading dataset**"
      ],
      "metadata": {
        "id": "3uAKoqQ4hNLm"
      }
    },
    {
      "cell_type": "code",
      "source": [
        "d_train=pd.read_csv('train.csv')\n",
        "d_test=pd.read_csv('test.csv')"
      ],
      "metadata": {
        "id": "z2xOJ85vK6kg"
      },
      "execution_count": 9,
      "outputs": []
    },
    {
      "cell_type": "code",
      "source": [
        "d_train.shape"
      ],
      "metadata": {
        "colab": {
          "base_uri": "https://localhost:8080/"
        },
        "id": "-6XuAyKXLGQC",
        "outputId": "0da21a00-7529-46c6-9fd4-4db9a72c6cbf"
      },
      "execution_count": 10,
      "outputs": [
        {
          "output_type": "execute_result",
          "data": {
            "text/plain": [
              "(1460, 81)"
            ]
          },
          "metadata": {},
          "execution_count": 10
        }
      ]
    },
    {
      "cell_type": "code",
      "source": [
        "d_test.shape"
      ],
      "metadata": {
        "colab": {
          "base_uri": "https://localhost:8080/"
        },
        "id": "9TidXBk3LZN3",
        "outputId": "8cc6f26c-9fc3-4d76-b1de-b1cbaf182b4c"
      },
      "execution_count": 11,
      "outputs": [
        {
          "output_type": "execute_result",
          "data": {
            "text/plain": [
              "(1459, 80)"
            ]
          },
          "metadata": {},
          "execution_count": 11
        }
      ]
    },
    {
      "cell_type": "code",
      "source": [
        "d=pd.concat([d_train,d_test],axis=0)"
      ],
      "metadata": {
        "id": "9ZpT7-3cLdSO"
      },
      "execution_count": 12,
      "outputs": []
    },
    {
      "cell_type": "code",
      "source": [
        "print(d.shape)"
      ],
      "metadata": {
        "colab": {
          "base_uri": "https://localhost:8080/"
        },
        "id": "QanB2H2oMUWi",
        "outputId": "5924d61b-e2f2-4420-8090-d373ad4636f3"
      },
      "execution_count": 13,
      "outputs": [
        {
          "output_type": "stream",
          "name": "stdout",
          "text": [
            "(2919, 81)\n"
          ]
        }
      ]
    },
    {
      "cell_type": "code",
      "source": [
        "d.info()"
      ],
      "metadata": {
        "colab": {
          "base_uri": "https://localhost:8080/"
        },
        "id": "UPGiffYWMjTw",
        "outputId": "83d1cbf9-c8a1-460e-8ea0-82332517098c"
      },
      "execution_count": 14,
      "outputs": [
        {
          "output_type": "stream",
          "name": "stdout",
          "text": [
            "<class 'pandas.core.frame.DataFrame'>\n",
            "Index: 2919 entries, 0 to 1458\n",
            "Data columns (total 81 columns):\n",
            " #   Column         Non-Null Count  Dtype  \n",
            "---  ------         --------------  -----  \n",
            " 0   Id             2919 non-null   int64  \n",
            " 1   MSSubClass     2919 non-null   int64  \n",
            " 2   MSZoning       2915 non-null   object \n",
            " 3   LotFrontage    2433 non-null   float64\n",
            " 4   LotArea        2919 non-null   int64  \n",
            " 5   Street         2919 non-null   object \n",
            " 6   Alley          198 non-null    object \n",
            " 7   LotShape       2919 non-null   object \n",
            " 8   LandContour    2919 non-null   object \n",
            " 9   Utilities      2917 non-null   object \n",
            " 10  LotConfig      2919 non-null   object \n",
            " 11  LandSlope      2919 non-null   object \n",
            " 12  Neighborhood   2919 non-null   object \n",
            " 13  Condition1     2919 non-null   object \n",
            " 14  Condition2     2919 non-null   object \n",
            " 15  BldgType       2919 non-null   object \n",
            " 16  HouseStyle     2919 non-null   object \n",
            " 17  OverallQual    2919 non-null   int64  \n",
            " 18  OverallCond    2919 non-null   int64  \n",
            " 19  YearBuilt      2919 non-null   int64  \n",
            " 20  YearRemodAdd   2919 non-null   int64  \n",
            " 21  RoofStyle      2919 non-null   object \n",
            " 22  RoofMatl       2919 non-null   object \n",
            " 23  Exterior1st    2918 non-null   object \n",
            " 24  Exterior2nd    2918 non-null   object \n",
            " 25  MasVnrType     1153 non-null   object \n",
            " 26  MasVnrArea     2896 non-null   float64\n",
            " 27  ExterQual      2919 non-null   object \n",
            " 28  ExterCond      2919 non-null   object \n",
            " 29  Foundation     2919 non-null   object \n",
            " 30  BsmtQual       2838 non-null   object \n",
            " 31  BsmtCond       2837 non-null   object \n",
            " 32  BsmtExposure   2837 non-null   object \n",
            " 33  BsmtFinType1   2840 non-null   object \n",
            " 34  BsmtFinSF1     2918 non-null   float64\n",
            " 35  BsmtFinType2   2839 non-null   object \n",
            " 36  BsmtFinSF2     2918 non-null   float64\n",
            " 37  BsmtUnfSF      2918 non-null   float64\n",
            " 38  TotalBsmtSF    2918 non-null   float64\n",
            " 39  Heating        2919 non-null   object \n",
            " 40  HeatingQC      2919 non-null   object \n",
            " 41  CentralAir     2919 non-null   object \n",
            " 42  Electrical     2918 non-null   object \n",
            " 43  1stFlrSF       2919 non-null   int64  \n",
            " 44  2ndFlrSF       2919 non-null   int64  \n",
            " 45  LowQualFinSF   2919 non-null   int64  \n",
            " 46  GrLivArea      2919 non-null   int64  \n",
            " 47  BsmtFullBath   2917 non-null   float64\n",
            " 48  BsmtHalfBath   2917 non-null   float64\n",
            " 49  FullBath       2919 non-null   int64  \n",
            " 50  HalfBath       2919 non-null   int64  \n",
            " 51  BedroomAbvGr   2919 non-null   int64  \n",
            " 52  KitchenAbvGr   2919 non-null   int64  \n",
            " 53  KitchenQual    2918 non-null   object \n",
            " 54  TotRmsAbvGrd   2919 non-null   int64  \n",
            " 55  Functional     2917 non-null   object \n",
            " 56  Fireplaces     2919 non-null   int64  \n",
            " 57  FireplaceQu    1499 non-null   object \n",
            " 58  GarageType     2762 non-null   object \n",
            " 59  GarageYrBlt    2760 non-null   float64\n",
            " 60  GarageFinish   2760 non-null   object \n",
            " 61  GarageCars     2918 non-null   float64\n",
            " 62  GarageArea     2918 non-null   float64\n",
            " 63  GarageQual     2760 non-null   object \n",
            " 64  GarageCond     2760 non-null   object \n",
            " 65  PavedDrive     2919 non-null   object \n",
            " 66  WoodDeckSF     2919 non-null   int64  \n",
            " 67  OpenPorchSF    2919 non-null   int64  \n",
            " 68  EnclosedPorch  2919 non-null   int64  \n",
            " 69  3SsnPorch      2919 non-null   int64  \n",
            " 70  ScreenPorch    2919 non-null   int64  \n",
            " 71  PoolArea       2919 non-null   int64  \n",
            " 72  PoolQC         10 non-null     object \n",
            " 73  Fence          571 non-null    object \n",
            " 74  MiscFeature    105 non-null    object \n",
            " 75  MiscVal        2919 non-null   int64  \n",
            " 76  MoSold         2919 non-null   int64  \n",
            " 77  YrSold         2919 non-null   int64  \n",
            " 78  SaleType       2918 non-null   object \n",
            " 79  SaleCondition  2919 non-null   object \n",
            " 80  SalePrice      1460 non-null   float64\n",
            "dtypes: float64(12), int64(26), object(43)\n",
            "memory usage: 1.8+ MB\n"
          ]
        }
      ]
    },
    {
      "cell_type": "code",
      "source": [
        "d.nunique()"
      ],
      "metadata": {
        "colab": {
          "base_uri": "https://localhost:8080/",
          "height": 458
        },
        "id": "yKtmIHEuMtNw",
        "outputId": "bbf464d3-9bd2-4249-97c0-fb0ca007a450"
      },
      "execution_count": 15,
      "outputs": [
        {
          "output_type": "execute_result",
          "data": {
            "text/plain": [
              "Id               2919\n",
              "MSSubClass         16\n",
              "MSZoning            5\n",
              "LotFrontage       128\n",
              "LotArea          1951\n",
              "                 ... \n",
              "MoSold             12\n",
              "YrSold              5\n",
              "SaleType            9\n",
              "SaleCondition       6\n",
              "SalePrice         663\n",
              "Length: 81, dtype: int64"
            ],
            "text/html": [
              "<div>\n",
              "<style scoped>\n",
              "    .dataframe tbody tr th:only-of-type {\n",
              "        vertical-align: middle;\n",
              "    }\n",
              "\n",
              "    .dataframe tbody tr th {\n",
              "        vertical-align: top;\n",
              "    }\n",
              "\n",
              "    .dataframe thead th {\n",
              "        text-align: right;\n",
              "    }\n",
              "</style>\n",
              "<table border=\"1\" class=\"dataframe\">\n",
              "  <thead>\n",
              "    <tr style=\"text-align: right;\">\n",
              "      <th></th>\n",
              "      <th>0</th>\n",
              "    </tr>\n",
              "  </thead>\n",
              "  <tbody>\n",
              "    <tr>\n",
              "      <th>Id</th>\n",
              "      <td>2919</td>\n",
              "    </tr>\n",
              "    <tr>\n",
              "      <th>MSSubClass</th>\n",
              "      <td>16</td>\n",
              "    </tr>\n",
              "    <tr>\n",
              "      <th>MSZoning</th>\n",
              "      <td>5</td>\n",
              "    </tr>\n",
              "    <tr>\n",
              "      <th>LotFrontage</th>\n",
              "      <td>128</td>\n",
              "    </tr>\n",
              "    <tr>\n",
              "      <th>LotArea</th>\n",
              "      <td>1951</td>\n",
              "    </tr>\n",
              "    <tr>\n",
              "      <th>...</th>\n",
              "      <td>...</td>\n",
              "    </tr>\n",
              "    <tr>\n",
              "      <th>MoSold</th>\n",
              "      <td>12</td>\n",
              "    </tr>\n",
              "    <tr>\n",
              "      <th>YrSold</th>\n",
              "      <td>5</td>\n",
              "    </tr>\n",
              "    <tr>\n",
              "      <th>SaleType</th>\n",
              "      <td>9</td>\n",
              "    </tr>\n",
              "    <tr>\n",
              "      <th>SaleCondition</th>\n",
              "      <td>6</td>\n",
              "    </tr>\n",
              "    <tr>\n",
              "      <th>SalePrice</th>\n",
              "      <td>663</td>\n",
              "    </tr>\n",
              "  </tbody>\n",
              "</table>\n",
              "<p>81 rows × 1 columns</p>\n",
              "</div><br><label><b>dtype:</b> int64</label>"
            ]
          },
          "metadata": {},
          "execution_count": 15
        }
      ]
    },
    {
      "cell_type": "markdown",
      "source": [
        "# **Handling null values**"
      ],
      "metadata": {
        "id": "qCQ-kwpUhfI0"
      }
    },
    {
      "cell_type": "code",
      "source": [
        "d.isnull().sum()"
      ],
      "metadata": {
        "colab": {
          "base_uri": "https://localhost:8080/",
          "height": 458
        },
        "id": "ho7ASkb7Mykw",
        "outputId": "24581e26-abd2-499c-8b4d-53cae6658505"
      },
      "execution_count": 16,
      "outputs": [
        {
          "output_type": "execute_result",
          "data": {
            "text/plain": [
              "Id                  0\n",
              "MSSubClass          0\n",
              "MSZoning            4\n",
              "LotFrontage       486\n",
              "LotArea             0\n",
              "                 ... \n",
              "MoSold              0\n",
              "YrSold              0\n",
              "SaleType            1\n",
              "SaleCondition       0\n",
              "SalePrice        1459\n",
              "Length: 81, dtype: int64"
            ],
            "text/html": [
              "<div>\n",
              "<style scoped>\n",
              "    .dataframe tbody tr th:only-of-type {\n",
              "        vertical-align: middle;\n",
              "    }\n",
              "\n",
              "    .dataframe tbody tr th {\n",
              "        vertical-align: top;\n",
              "    }\n",
              "\n",
              "    .dataframe thead th {\n",
              "        text-align: right;\n",
              "    }\n",
              "</style>\n",
              "<table border=\"1\" class=\"dataframe\">\n",
              "  <thead>\n",
              "    <tr style=\"text-align: right;\">\n",
              "      <th></th>\n",
              "      <th>0</th>\n",
              "    </tr>\n",
              "  </thead>\n",
              "  <tbody>\n",
              "    <tr>\n",
              "      <th>Id</th>\n",
              "      <td>0</td>\n",
              "    </tr>\n",
              "    <tr>\n",
              "      <th>MSSubClass</th>\n",
              "      <td>0</td>\n",
              "    </tr>\n",
              "    <tr>\n",
              "      <th>MSZoning</th>\n",
              "      <td>4</td>\n",
              "    </tr>\n",
              "    <tr>\n",
              "      <th>LotFrontage</th>\n",
              "      <td>486</td>\n",
              "    </tr>\n",
              "    <tr>\n",
              "      <th>LotArea</th>\n",
              "      <td>0</td>\n",
              "    </tr>\n",
              "    <tr>\n",
              "      <th>...</th>\n",
              "      <td>...</td>\n",
              "    </tr>\n",
              "    <tr>\n",
              "      <th>MoSold</th>\n",
              "      <td>0</td>\n",
              "    </tr>\n",
              "    <tr>\n",
              "      <th>YrSold</th>\n",
              "      <td>0</td>\n",
              "    </tr>\n",
              "    <tr>\n",
              "      <th>SaleType</th>\n",
              "      <td>1</td>\n",
              "    </tr>\n",
              "    <tr>\n",
              "      <th>SaleCondition</th>\n",
              "      <td>0</td>\n",
              "    </tr>\n",
              "    <tr>\n",
              "      <th>SalePrice</th>\n",
              "      <td>1459</td>\n",
              "    </tr>\n",
              "  </tbody>\n",
              "</table>\n",
              "<p>81 rows × 1 columns</p>\n",
              "</div><br><label><b>dtype:</b> int64</label>"
            ]
          },
          "metadata": {},
          "execution_count": 16
        }
      ]
    },
    {
      "cell_type": "code",
      "source": [
        "d.select_dtypes(include=['int64', 'float64']).columns"
      ],
      "metadata": {
        "colab": {
          "base_uri": "https://localhost:8080/"
        },
        "id": "s0eOMgeINTml",
        "outputId": "2d774aad-e605-4d2f-d8df-ae23e796c2cb"
      },
      "execution_count": 17,
      "outputs": [
        {
          "output_type": "execute_result",
          "data": {
            "text/plain": [
              "Index(['Id', 'MSSubClass', 'LotFrontage', 'LotArea', 'OverallQual',\n",
              "       'OverallCond', 'YearBuilt', 'YearRemodAdd', 'MasVnrArea', 'BsmtFinSF1',\n",
              "       'BsmtFinSF2', 'BsmtUnfSF', 'TotalBsmtSF', '1stFlrSF', '2ndFlrSF',\n",
              "       'LowQualFinSF', 'GrLivArea', 'BsmtFullBath', 'BsmtHalfBath', 'FullBath',\n",
              "       'HalfBath', 'BedroomAbvGr', 'KitchenAbvGr', 'TotRmsAbvGrd',\n",
              "       'Fireplaces', 'GarageYrBlt', 'GarageCars', 'GarageArea', 'WoodDeckSF',\n",
              "       'OpenPorchSF', 'EnclosedPorch', '3SsnPorch', 'ScreenPorch', 'PoolArea',\n",
              "       'MiscVal', 'MoSold', 'YrSold', 'SalePrice'],\n",
              "      dtype='object')"
            ]
          },
          "metadata": {},
          "execution_count": 17
        }
      ]
    },
    {
      "cell_type": "code",
      "source": [
        "d.select_dtypes(include=['object']).columns"
      ],
      "metadata": {
        "colab": {
          "base_uri": "https://localhost:8080/"
        },
        "id": "KRVyYNC7Nsm2",
        "outputId": "13cb71a2-592e-41b2-c895-0b2f76b1e6fa"
      },
      "execution_count": 18,
      "outputs": [
        {
          "output_type": "execute_result",
          "data": {
            "text/plain": [
              "Index(['MSZoning', 'Street', 'Alley', 'LotShape', 'LandContour', 'Utilities',\n",
              "       'LotConfig', 'LandSlope', 'Neighborhood', 'Condition1', 'Condition2',\n",
              "       'BldgType', 'HouseStyle', 'RoofStyle', 'RoofMatl', 'Exterior1st',\n",
              "       'Exterior2nd', 'MasVnrType', 'ExterQual', 'ExterCond', 'Foundation',\n",
              "       'BsmtQual', 'BsmtCond', 'BsmtExposure', 'BsmtFinType1', 'BsmtFinType2',\n",
              "       'Heating', 'HeatingQC', 'CentralAir', 'Electrical', 'KitchenQual',\n",
              "       'Functional', 'FireplaceQu', 'GarageType', 'GarageFinish', 'GarageQual',\n",
              "       'GarageCond', 'PavedDrive', 'PoolQC', 'Fence', 'MiscFeature',\n",
              "       'SaleType', 'SaleCondition'],\n",
              "      dtype='object')"
            ]
          },
          "metadata": {},
          "execution_count": 18
        }
      ]
    },
    {
      "cell_type": "code",
      "source": [
        "sns.heatmap(d.isnull(),yticklabels=False,cbar=False)"
      ],
      "metadata": {
        "colab": {
          "base_uri": "https://localhost:8080/",
          "height": 539
        },
        "id": "NNGC20tvM5zP",
        "outputId": "e991b902-0009-4e14-ad51-79cb6ba74728"
      },
      "execution_count": 19,
      "outputs": [
        {
          "output_type": "execute_result",
          "data": {
            "text/plain": [
              "<Axes: >"
            ]
          },
          "metadata": {},
          "execution_count": 19
        },
        {
          "output_type": "display_data",
          "data": {
            "text/plain": [
              "<Figure size 640x480 with 1 Axes>"
            ],
            "image/png": "[encoded data removed]"
          },
          "metadata": {}
        }
      ]
    },
    {
      "cell_type": "code",
      "source": [
        "d.shape"
      ],
      "metadata": {
        "colab": {
          "base_uri": "https://localhost:8080/"
        },
        "id": "PawW26MBOb-f",
        "outputId": "039cd045-cbd6-47ab-be38-5087e93b0844"
      },
      "execution_count": 20,
      "outputs": [
        {
          "output_type": "execute_result",
          "data": {
            "text/plain": [
              "(2919, 81)"
            ]
          },
          "metadata": {},
          "execution_count": 20
        }
      ]
    },
    {
      "cell_type": "code",
      "source": [
        "d['LotFrontage']=d['LotFrontage'].fillna(d['LotFrontage'].mean())\n",
        "d['SalePrice']=d['SalePrice'].fillna(d['SalePrice'].mean())"
      ],
      "metadata": {
        "id": "kNYdazfHOkrq"
      },
      "execution_count": 21,
      "outputs": []
    },
    {
      "cell_type": "code",
      "source": [
        "d['SaleType']=d['SaleType'].fillna(d['SaleType'].mode()[0])\n",
        "d['BsmtQual']=d['BsmtQual'].fillna(d['BsmtQual'].mode()[0])\n",
        "d['BsmtCond']=d['BsmtCond'].fillna(d['BsmtCond'].mode()[0])\n",
        "d['MSZoning']=d['MSZoning'].fillna(d['MSZoning'].mode()[0])"
      ],
      "metadata": {
        "id": "py5yGxzgQFYj"
      },
      "execution_count": 22,
      "outputs": []
    },
    {
      "cell_type": "code",
      "source": [
        "d['FireplaceQu'].isnull().sum()"
      ],
      "metadata": {
        "colab": {
          "base_uri": "https://localhost:8080/"
        },
        "id": "qiaJZAqeSXAI",
        "outputId": "b0bca662-29c2-41bd-f03d-f78b93cd31b2"
      },
      "execution_count": 23,
      "outputs": [
        {
          "output_type": "execute_result",
          "data": {
            "text/plain": [
              "1420"
            ]
          },
          "metadata": {},
          "execution_count": 23
        }
      ]
    },
    {
      "cell_type": "code",
      "source": [
        "d['GarageType'].isnull().sum()"
      ],
      "metadata": {
        "colab": {
          "base_uri": "https://localhost:8080/"
        },
        "id": "JBUl7LIBSm2c",
        "outputId": "88252b5c-a5f2-47f8-c5bf-6ef553c12d44"
      },
      "execution_count": 24,
      "outputs": [
        {
          "output_type": "execute_result",
          "data": {
            "text/plain": [
              "157"
            ]
          },
          "metadata": {},
          "execution_count": 24
        }
      ]
    },
    {
      "cell_type": "code",
      "source": [
        "d['GarageYrBlt'].isnull().sum()"
      ],
      "metadata": {
        "colab": {
          "base_uri": "https://localhost:8080/"
        },
        "id": "dMEQs_2XS-xX",
        "outputId": "6342ea35-e39a-4d7c-a730-c80c0afeae59"
      },
      "execution_count": 25,
      "outputs": [
        {
          "output_type": "execute_result",
          "data": {
            "text/plain": [
              "159"
            ]
          },
          "metadata": {},
          "execution_count": 25
        }
      ]
    },
    {
      "cell_type": "code",
      "source": [
        "d['GarageFinish'].isnull().sum()"
      ],
      "metadata": {
        "colab": {
          "base_uri": "https://localhost:8080/"
        },
        "id": "KgEPRTgTTBrC",
        "outputId": "3af94499-c779-4641-9e41-657a96118b0b"
      },
      "execution_count": 26,
      "outputs": [
        {
          "output_type": "execute_result",
          "data": {
            "text/plain": [
              "159"
            ]
          },
          "metadata": {},
          "execution_count": 26
        }
      ]
    },
    {
      "cell_type": "code",
      "source": [
        "d['GarageQual'].isnull().sum()"
      ],
      "metadata": {
        "colab": {
          "base_uri": "https://localhost:8080/"
        },
        "id": "ZtSiDU0dTEnp",
        "outputId": "8c9ea6be-5349-4681-ccde-7ccb675cdaab"
      },
      "execution_count": 27,
      "outputs": [
        {
          "output_type": "execute_result",
          "data": {
            "text/plain": [
              "159"
            ]
          },
          "metadata": {},
          "execution_count": 27
        }
      ]
    },
    {
      "cell_type": "code",
      "source": [
        "d['GarageCond'].isnull().sum()"
      ],
      "metadata": {
        "colab": {
          "base_uri": "https://localhost:8080/"
        },
        "id": "fO_sWMa5TH54",
        "outputId": "a43434d3-8dbf-4ef0-d54f-e9ad999d30e8"
      },
      "execution_count": 28,
      "outputs": [
        {
          "output_type": "execute_result",
          "data": {
            "text/plain": [
              "159"
            ]
          },
          "metadata": {},
          "execution_count": 28
        }
      ]
    },
    {
      "cell_type": "code",
      "source": [
        "d['FireplaceQu']=d['FireplaceQu'].fillna(d['FireplaceQu'].mode()[0])"
      ],
      "metadata": {
        "id": "ykNe1U1bSdJU"
      },
      "execution_count": 29,
      "outputs": []
    },
    {
      "cell_type": "code",
      "source": [
        "d['GarageType']=d['GarageType'].fillna(d['GarageType'].mode()[0])\n",
        "d['GarageYrBlt']=d['GarageYrBlt'].fillna(d['GarageYrBlt'].mode()[0])\n",
        "d['GarageFinish']=d['GarageFinish'].fillna(d['GarageFinish'].mode()[0])\n",
        "d['GarageQual']=d['GarageQual'].fillna(d['GarageQual'].mode()[0])\n",
        "d['GarageCond']=d['GarageCond'].fillna(d['GarageCond'].mode()[0])"
      ],
      "metadata": {
        "id": "5GHLerBFTOch"
      },
      "execution_count": 30,
      "outputs": []
    },
    {
      "cell_type": "code",
      "source": [
        "sns.heatmap(d.isnull(),yticklabels=False,cbar=False)"
      ],
      "metadata": {
        "colab": {
          "base_uri": "https://localhost:8080/",
          "height": 539
        },
        "id": "HaTIL5nrT9QX",
        "outputId": "40c8e7c7-619d-4853-b873-4ab0e91c3ef2"
      },
      "execution_count": 31,
      "outputs": [
        {
          "output_type": "execute_result",
          "data": {
            "text/plain": [
              "<Axes: >"
            ]
          },
          "metadata": {},
          "execution_count": 31
        },
        {
          "output_type": "display_data",
          "data": {
            "text/plain": [
              "<Figure size 640x480 with 1 Axes>"
            ],
            "image/png": "[encoded data removed]"
          },
          "metadata": {}
        }
      ]
    },
    {
      "cell_type": "code",
      "source": [
        "d['Alley'].isnull().sum()"
      ],
      "metadata": {
        "colab": {
          "base_uri": "https://localhost:8080/"
        },
        "id": "y96xy3jTUEHc",
        "outputId": "f59ea4ee-a8ad-4ea1-8747-081e576f6382"
      },
      "execution_count": 32,
      "outputs": [
        {
          "output_type": "execute_result",
          "data": {
            "text/plain": [
              "2721"
            ]
          },
          "metadata": {},
          "execution_count": 32
        }
      ]
    },
    {
      "cell_type": "code",
      "source": [
        "d['MasVnrType'].isnull().sum()"
      ],
      "metadata": {
        "colab": {
          "base_uri": "https://localhost:8080/"
        },
        "id": "Slrec_uCUJXU",
        "outputId": "0c10c0fd-d194-47e6-ff47-ff75ec6cfc40"
      },
      "execution_count": 33,
      "outputs": [
        {
          "output_type": "execute_result",
          "data": {
            "text/plain": [
              "1766"
            ]
          },
          "metadata": {},
          "execution_count": 33
        }
      ]
    },
    {
      "cell_type": "code",
      "source": [
        "d['PoolQC'].isnull().sum()"
      ],
      "metadata": {
        "colab": {
          "base_uri": "https://localhost:8080/"
        },
        "id": "aaQszrGYUcQL",
        "outputId": "d9fc2b9e-f6b4-47f9-bd46-c303dcb39f33"
      },
      "execution_count": 34,
      "outputs": [
        {
          "output_type": "execute_result",
          "data": {
            "text/plain": [
              "2909"
            ]
          },
          "metadata": {},
          "execution_count": 34
        }
      ]
    },
    {
      "cell_type": "code",
      "source": [
        "d['Fence'].isnull().sum()"
      ],
      "metadata": {
        "colab": {
          "base_uri": "https://localhost:8080/"
        },
        "id": "EVbwsjJGUhSy",
        "outputId": "caa6d378-f4b4-4bea-9a56-184d9cc5025d"
      },
      "execution_count": 35,
      "outputs": [
        {
          "output_type": "execute_result",
          "data": {
            "text/plain": [
              "2348"
            ]
          },
          "metadata": {},
          "execution_count": 35
        }
      ]
    },
    {
      "cell_type": "code",
      "source": [
        "d['MiscFeature'].isnull().sum()"
      ],
      "metadata": {
        "colab": {
          "base_uri": "https://localhost:8080/"
        },
        "id": "YIZ3SFDHUsaQ",
        "outputId": "a68815d7-d92c-4496-c80a-03970c35d208"
      },
      "execution_count": 36,
      "outputs": [
        {
          "output_type": "execute_result",
          "data": {
            "text/plain": [
              "2814"
            ]
          },
          "metadata": {},
          "execution_count": 36
        }
      ]
    },
    {
      "cell_type": "code",
      "source": [
        "d.drop(['PoolQC','Fence','MiscFeature'],axis=1,inplace=True)"
      ],
      "metadata": {
        "id": "skHDXAJbUULa"
      },
      "execution_count": 37,
      "outputs": []
    },
    {
      "cell_type": "code",
      "source": [
        "d.shape"
      ],
      "metadata": {
        "colab": {
          "base_uri": "https://localhost:8080/"
        },
        "id": "j4j73qCbUa9d",
        "outputId": "cdd5f5d7-c371-4454-807a-90fd0dea8307"
      },
      "execution_count": 38,
      "outputs": [
        {
          "output_type": "execute_result",
          "data": {
            "text/plain": [
              "(2919, 78)"
            ]
          },
          "metadata": {},
          "execution_count": 38
        }
      ]
    },
    {
      "cell_type": "code",
      "source": [
        "d.isnull().sum()"
      ],
      "metadata": {
        "colab": {
          "base_uri": "https://localhost:8080/",
          "height": 458
        },
        "id": "9IYisGMMU34G",
        "outputId": "7562de34-59f0-4072-88bc-f14bd679f70f"
      },
      "execution_count": 39,
      "outputs": [
        {
          "output_type": "execute_result",
          "data": {
            "text/plain": [
              "Id               0\n",
              "MSSubClass       0\n",
              "MSZoning         0\n",
              "LotFrontage      0\n",
              "LotArea          0\n",
              "                ..\n",
              "MoSold           0\n",
              "YrSold           0\n",
              "SaleType         0\n",
              "SaleCondition    0\n",
              "SalePrice        0\n",
              "Length: 78, dtype: int64"
            ],
            "text/html": [
              "<div>\n",
              "<style scoped>\n",
              "    .dataframe tbody tr th:only-of-type {\n",
              "        vertical-align: middle;\n",
              "    }\n",
              "\n",
              "    .dataframe tbody tr th {\n",
              "        vertical-align: top;\n",
              "    }\n",
              "\n",
              "    .dataframe thead th {\n",
              "        text-align: right;\n",
              "    }\n",
              "</style>\n",
              "<table border=\"1\" class=\"dataframe\">\n",
              "  <thead>\n",
              "    <tr style=\"text-align: right;\">\n",
              "      <th></th>\n",
              "      <th>0</th>\n",
              "    </tr>\n",
              "  </thead>\n",
              "  <tbody>\n",
              "    <tr>\n",
              "      <th>Id</th>\n",
              "      <td>0</td>\n",
              "    </tr>\n",
              "    <tr>\n",
              "      <th>MSSubClass</th>\n",
              "      <td>0</td>\n",
              "    </tr>\n",
              "    <tr>\n",
              "      <th>MSZoning</th>\n",
              "      <td>0</td>\n",
              "    </tr>\n",
              "    <tr>\n",
              "      <th>LotFrontage</th>\n",
              "      <td>0</td>\n",
              "    </tr>\n",
              "    <tr>\n",
              "      <th>LotArea</th>\n",
              "      <td>0</td>\n",
              "    </tr>\n",
              "    <tr>\n",
              "      <th>...</th>\n",
              "      <td>...</td>\n",
              "    </tr>\n",
              "    <tr>\n",
              "      <th>MoSold</th>\n",
              "      <td>0</td>\n",
              "    </tr>\n",
              "    <tr>\n",
              "      <th>YrSold</th>\n",
              "      <td>0</td>\n",
              "    </tr>\n",
              "    <tr>\n",
              "      <th>SaleType</th>\n",
              "      <td>0</td>\n",
              "    </tr>\n",
              "    <tr>\n",
              "      <th>SaleCondition</th>\n",
              "      <td>0</td>\n",
              "    </tr>\n",
              "    <tr>\n",
              "      <th>SalePrice</th>\n",
              "      <td>0</td>\n",
              "    </tr>\n",
              "  </tbody>\n",
              "</table>\n",
              "<p>78 rows × 1 columns</p>\n",
              "</div><br><label><b>dtype:</b> int64</label>"
            ]
          },
          "metadata": {},
          "execution_count": 39
        }
      ]
    },
    {
      "cell_type": "code",
      "source": [
        "d['MasVnrType']=d['MasVnrType'].fillna(d['MasVnrType'].mode()[0])\n",
        "d['MasVnrArea']=d['MasVnrArea'].fillna(d['MasVnrArea'].mode()[0])"
      ],
      "metadata": {
        "id": "xepP1sCuVAQ0"
      },
      "execution_count": 40,
      "outputs": []
    },
    {
      "cell_type": "code",
      "source": [
        "d['BsmtFinSF1'].isnull().sum()"
      ],
      "metadata": {
        "colab": {
          "base_uri": "https://localhost:8080/"
        },
        "id": "nkiIusxeVQyS",
        "outputId": "37810f70-1bb7-4641-ec2c-427e1a803b59"
      },
      "execution_count": 41,
      "outputs": [
        {
          "output_type": "execute_result",
          "data": {
            "text/plain": [
              "1"
            ]
          },
          "metadata": {},
          "execution_count": 41
        }
      ]
    },
    {
      "cell_type": "code",
      "source": [
        "d['BsmtUnfSF'].isnull().sum()"
      ],
      "metadata": {
        "colab": {
          "base_uri": "https://localhost:8080/"
        },
        "id": "vKmOlbZWVcbM",
        "outputId": "5cc66fdc-39fd-4b68-d3f6-7c7a7ee91506"
      },
      "execution_count": 42,
      "outputs": [
        {
          "output_type": "execute_result",
          "data": {
            "text/plain": [
              "1"
            ]
          },
          "metadata": {},
          "execution_count": 42
        }
      ]
    },
    {
      "cell_type": "code",
      "source": [
        "d['BsmtExposure'].isnull().sum()"
      ],
      "metadata": {
        "colab": {
          "base_uri": "https://localhost:8080/"
        },
        "id": "UfD_AgSvVj6a",
        "outputId": "a9c0272c-aabf-4096-c001-d544a61c543e"
      },
      "execution_count": 43,
      "outputs": [
        {
          "output_type": "execute_result",
          "data": {
            "text/plain": [
              "82"
            ]
          },
          "metadata": {},
          "execution_count": 43
        }
      ]
    },
    {
      "cell_type": "code",
      "source": [
        "d['BsmtFinType1'].isnull().sum()"
      ],
      "metadata": {
        "colab": {
          "base_uri": "https://localhost:8080/"
        },
        "id": "AaQ7WUBEVwfd",
        "outputId": "f078204a-4f9a-45b8-fb9f-b5d4cac39716"
      },
      "execution_count": 44,
      "outputs": [
        {
          "output_type": "execute_result",
          "data": {
            "text/plain": [
              "79"
            ]
          },
          "metadata": {},
          "execution_count": 44
        }
      ]
    },
    {
      "cell_type": "code",
      "source": [
        "d['BsmtFinType1']=d['BsmtFinType1'].fillna(d['BsmtFinType1'].mode()[0])\n",
        "d['BsmtExposure']=d['BsmtExposure'].fillna(d['BsmtExposure'].mode()[0])\n",
        "d['BsmtFinType2']=d['BsmtFinType2'].fillna(d['BsmtFinType2'].mode()[0])\n",
        "d['BsmtFinSF1']=d['BsmtFinType1'].fillna(d['BsmtFinType1'].mode()[0])\n",
        "d['SaleType']=d['SaleType'].fillna(d['SaleType'].mode()[0])\n",
        "d['BsmtUnfSF']=d['BsmtUnfSF'].fillna(d['BsmtUnfSF'].mode()[0])"
      ],
      "metadata": {
        "id": "OF_OboTcV-T4"
      },
      "execution_count": 45,
      "outputs": []
    },
    {
      "cell_type": "code",
      "source": [
        "d.drop(['Alley'],axis=1,inplace=True)"
      ],
      "metadata": {
        "id": "TrwjJiaQWadX"
      },
      "execution_count": 46,
      "outputs": []
    },
    {
      "cell_type": "code",
      "source": [
        "sns.heatmap(d.isnull(),yticklabels=False,cbar=False,cmap='coolwarm')"
      ],
      "metadata": {
        "colab": {
          "base_uri": "https://localhost:8080/",
          "height": 529
        },
        "id": "vjH7O5EGWH08",
        "outputId": "c802d00d-2cfa-4bf4-9d82-0aa2e1d8ff9f"
      },
      "execution_count": 47,
      "outputs": [
        {
          "output_type": "execute_result",
          "data": {
            "text/plain": [
              "<Axes: >"
            ]
          },
          "metadata": {},
          "execution_count": 47
        },
        {
          "output_type": "display_data",
          "data": {
            "text/plain": [
              "<Figure size 640x480 with 1 Axes>"
            ],
            "image/png": "[encoded data removed]"
          },
          "metadata": {}
        }
      ]
    },
    {
      "cell_type": "code",
      "source": [
        "d['Functional']=d['Functional'].fillna(d['Functional'].mode()[0])"
      ],
      "metadata": {
        "id": "n82zKoEMWktF"
      },
      "execution_count": 48,
      "outputs": []
    },
    {
      "cell_type": "code",
      "source": [
        "sns.heatmap(d.isnull(),yticklabels=False,cbar=False,cmap='coolwarm')"
      ],
      "metadata": {
        "colab": {
          "base_uri": "https://localhost:8080/",
          "height": 529
        },
        "id": "GCDlxQKRWvcR",
        "outputId": "4d4c88cb-eca7-4ed4-9728-0254498db243"
      },
      "execution_count": 49,
      "outputs": [
        {
          "output_type": "execute_result",
          "data": {
            "text/plain": [
              "<Axes: >"
            ]
          },
          "metadata": {},
          "execution_count": 49
        },
        {
          "output_type": "display_data",
          "data": {
            "text/plain": [
              "<Figure size 640x480 with 1 Axes>"
            ],
            "image/png": "[encoded data removed]"
          },
          "metadata": {}
        }
      ]
    },
    {
      "cell_type": "code",
      "source": [
        "d.shape"
      ],
      "metadata": {
        "colab": {
          "base_uri": "https://localhost:8080/"
        },
        "id": "gMCfaChDW9qr",
        "outputId": "5731c646-89f4-4a5e-d658-a1e9e4900d4f"
      },
      "execution_count": 50,
      "outputs": [
        {
          "output_type": "execute_result",
          "data": {
            "text/plain": [
              "(2919, 77)"
            ]
          },
          "metadata": {},
          "execution_count": 50
        }
      ]
    },
    {
      "cell_type": "markdown",
      "source": [
        "# **Handling categorical data**"
      ],
      "metadata": {
        "id": "9Rm_2fP_hrO8"
      }
    },
    {
      "cell_type": "code",
      "source": [
        "#handle categorical data\n",
        "cat_cols1=d.select_dtypes(include=['object']).columns.tolist()\n",
        "num_cols1= d.select_dtypes(include=np.number).columns.tolist()\n",
        "print(\"Categorical Variables:\")\n",
        "print(cat_cols1)\n",
        "print(\"Numerical Variables:\")\n",
        "print(num_cols1)"
      ],
      "metadata": {
        "colab": {
          "base_uri": "https://localhost:8080/"
        },
        "id": "cA2TmSp3XmTG",
        "outputId": "ff0b86f7-d5a6-41d2-bd16-fb630d9e4cc4"
      },
      "execution_count": 52,
      "outputs": [
        {
          "output_type": "stream",
          "name": "stdout",
          "text": [
            "Categorical Variables:\n",
            "['MSZoning', 'Street', 'LotShape', 'LandContour', 'Utilities', 'LotConfig', 'LandSlope', 'Neighborhood', 'Condition1', 'Condition2', 'BldgType', 'HouseStyle', 'RoofStyle', 'RoofMatl', 'Exterior1st', 'Exterior2nd', 'MasVnrType', 'ExterQual', 'ExterCond', 'Foundation', 'BsmtQual', 'BsmtCond', 'BsmtExposure', 'BsmtFinType1', 'BsmtFinSF1', 'BsmtFinType2', 'Heating', 'HeatingQC', 'CentralAir', 'Electrical', 'KitchenQual', 'Functional', 'FireplaceQu', 'GarageType', 'GarageFinish', 'GarageQual', 'GarageCond', 'PavedDrive', 'SaleType', 'SaleCondition']\n",
            "Numerical Variables:\n",
            "['Id', 'MSSubClass', 'LotFrontage', 'LotArea', 'OverallQual', 'OverallCond', 'YearBuilt', 'YearRemodAdd', 'MasVnrArea', 'BsmtFinSF2', 'BsmtUnfSF', 'TotalBsmtSF', '1stFlrSF', '2ndFlrSF', 'LowQualFinSF', 'GrLivArea', 'BsmtFullBath', 'BsmtHalfBath', 'FullBath', 'HalfBath', 'BedroomAbvGr', 'KitchenAbvGr', 'TotRmsAbvGrd', 'Fireplaces', 'GarageYrBlt', 'GarageCars', 'GarageArea', 'WoodDeckSF', 'OpenPorchSF', 'EnclosedPorch', '3SsnPorch', 'ScreenPorch', 'PoolArea', 'MiscVal', 'MoSold', 'YrSold', 'SalePrice']\n"
          ]
        }
      ]
    },
    {
      "cell_type": "code",
      "source": [
        "cat_cols1"
      ],
      "metadata": {
        "colab": {
          "base_uri": "https://localhost:8080/"
        },
        "id": "CFBL7WQcYD1Q",
        "outputId": "d3485fb1-ba4b-4004-ff1c-afb22a312142"
      },
      "execution_count": 53,
      "outputs": [
        {
          "output_type": "execute_result",
          "data": {
            "text/plain": [
              "['MSZoning',\n",
              " 'Street',\n",
              " 'LotShape',\n",
              " 'LandContour',\n",
              " 'Utilities',\n",
              " 'LotConfig',\n",
              " 'LandSlope',\n",
              " 'Neighborhood',\n",
              " 'Condition1',\n",
              " 'Condition2',\n",
              " 'BldgType',\n",
              " 'HouseStyle',\n",
              " 'RoofStyle',\n",
              " 'RoofMatl',\n",
              " 'Exterior1st',\n",
              " 'Exterior2nd',\n",
              " 'MasVnrType',\n",
              " 'ExterQual',\n",
              " 'ExterCond',\n",
              " 'Foundation',\n",
              " 'BsmtQual',\n",
              " 'BsmtCond',\n",
              " 'BsmtExposure',\n",
              " 'BsmtFinType1',\n",
              " 'BsmtFinSF1',\n",
              " 'BsmtFinType2',\n",
              " 'Heating',\n",
              " 'HeatingQC',\n",
              " 'CentralAir',\n",
              " 'Electrical',\n",
              " 'KitchenQual',\n",
              " 'Functional',\n",
              " 'FireplaceQu',\n",
              " 'GarageType',\n",
              " 'GarageFinish',\n",
              " 'GarageQual',\n",
              " 'GarageCond',\n",
              " 'PavedDrive',\n",
              " 'SaleType',\n",
              " 'SaleCondition']"
            ]
          },
          "metadata": {},
          "execution_count": 53
        }
      ]
    },
    {
      "cell_type": "code",
      "source": [
        "from pandas.api.types import CategoricalDtype"
      ],
      "metadata": {
        "id": "72IRTt2KYKmi"
      },
      "execution_count": 54,
      "outputs": []
    },
    {
      "cell_type": "code",
      "source": [
        "d['ExterQual'].unique()"
      ],
      "metadata": {
        "colab": {
          "base_uri": "https://localhost:8080/"
        },
        "id": "gIF6MMyDZVUn",
        "outputId": "5734c98d-1b82-4255-e8ee-f2631885cbec"
      },
      "execution_count": 55,
      "outputs": [
        {
          "output_type": "execute_result",
          "data": {
            "text/plain": [
              "array(['Gd', 'TA', 'Ex', 'Fa'], dtype=object)"
            ]
          },
          "metadata": {},
          "execution_count": 55
        }
      ]
    },
    {
      "cell_type": "code",
      "source": [
        "d['ExterQual'].value_counts()"
      ],
      "metadata": {
        "colab": {
          "base_uri": "https://localhost:8080/",
          "height": 241
        },
        "id": "R-mBGMGAZYNl",
        "outputId": "d1591d0c-add4-465d-e5de-2e9c04f9fafd"
      },
      "execution_count": 56,
      "outputs": [
        {
          "output_type": "execute_result",
          "data": {
            "text/plain": [
              "ExterQual\n",
              "TA    1798\n",
              "Gd     979\n",
              "Ex     107\n",
              "Fa      35\n",
              "Name: count, dtype: int64"
            ],
            "text/html": [
              "<div>\n",
              "<style scoped>\n",
              "    .dataframe tbody tr th:only-of-type {\n",
              "        vertical-align: middle;\n",
              "    }\n",
              "\n",
              "    .dataframe tbody tr th {\n",
              "        vertical-align: top;\n",
              "    }\n",
              "\n",
              "    .dataframe thead th {\n",
              "        text-align: right;\n",
              "    }\n",
              "</style>\n",
              "<table border=\"1\" class=\"dataframe\">\n",
              "  <thead>\n",
              "    <tr style=\"text-align: right;\">\n",
              "      <th></th>\n",
              "      <th>count</th>\n",
              "    </tr>\n",
              "    <tr>\n",
              "      <th>ExterQual</th>\n",
              "      <th></th>\n",
              "    </tr>\n",
              "  </thead>\n",
              "  <tbody>\n",
              "    <tr>\n",
              "      <th>TA</th>\n",
              "      <td>1798</td>\n",
              "    </tr>\n",
              "    <tr>\n",
              "      <th>Gd</th>\n",
              "      <td>979</td>\n",
              "    </tr>\n",
              "    <tr>\n",
              "      <th>Ex</th>\n",
              "      <td>107</td>\n",
              "    </tr>\n",
              "    <tr>\n",
              "      <th>Fa</th>\n",
              "      <td>35</td>\n",
              "    </tr>\n",
              "  </tbody>\n",
              "</table>\n",
              "</div><br><label><b>dtype:</b> int64</label>"
            ]
          },
          "metadata": {},
          "execution_count": 56
        }
      ]
    },
    {
      "cell_type": "code",
      "source": [
        "d['ExterQual']=d['ExterQual'].astype(CategoricalDtype(categories=['Po','Fa','TA','Gd','Ex'],ordered=True)).cat.codes"
      ],
      "metadata": {
        "id": "pHLJjRdUZdr_"
      },
      "execution_count": 57,
      "outputs": []
    },
    {
      "cell_type": "code",
      "source": [
        "d['ExterQual'].value_counts()"
      ],
      "metadata": {
        "colab": {
          "base_uri": "https://localhost:8080/",
          "height": 241
        },
        "id": "qf_6veI4Z2dG",
        "outputId": "8f90396c-5a58-4456-87df-d8d33494e11e"
      },
      "execution_count": 58,
      "outputs": [
        {
          "output_type": "execute_result",
          "data": {
            "text/plain": [
              "ExterQual\n",
              "2    1798\n",
              "3     979\n",
              "4     107\n",
              "1      35\n",
              "Name: count, dtype: int64"
            ],
            "text/html": [
              "<div>\n",
              "<style scoped>\n",
              "    .dataframe tbody tr th:only-of-type {\n",
              "        vertical-align: middle;\n",
              "    }\n",
              "\n",
              "    .dataframe tbody tr th {\n",
              "        vertical-align: top;\n",
              "    }\n",
              "\n",
              "    .dataframe thead th {\n",
              "        text-align: right;\n",
              "    }\n",
              "</style>\n",
              "<table border=\"1\" class=\"dataframe\">\n",
              "  <thead>\n",
              "    <tr style=\"text-align: right;\">\n",
              "      <th></th>\n",
              "      <th>count</th>\n",
              "    </tr>\n",
              "    <tr>\n",
              "      <th>ExterQual</th>\n",
              "      <th></th>\n",
              "    </tr>\n",
              "  </thead>\n",
              "  <tbody>\n",
              "    <tr>\n",
              "      <th>2</th>\n",
              "      <td>1798</td>\n",
              "    </tr>\n",
              "    <tr>\n",
              "      <th>3</th>\n",
              "      <td>979</td>\n",
              "    </tr>\n",
              "    <tr>\n",
              "      <th>4</th>\n",
              "      <td>107</td>\n",
              "    </tr>\n",
              "    <tr>\n",
              "      <th>1</th>\n",
              "      <td>35</td>\n",
              "    </tr>\n",
              "  </tbody>\n",
              "</table>\n",
              "</div><br><label><b>dtype:</b> int64</label>"
            ]
          },
          "metadata": {},
          "execution_count": 58
        }
      ]
    },
    {
      "cell_type": "code",
      "source": [
        "d['BsmtExposure'].value_counts()"
      ],
      "metadata": {
        "colab": {
          "base_uri": "https://localhost:8080/",
          "height": 241
        },
        "id": "nUx73WlMaBeP",
        "outputId": "2f1c837e-5dfb-400f-f3cd-0be61f8f9814"
      },
      "execution_count": 59,
      "outputs": [
        {
          "output_type": "execute_result",
          "data": {
            "text/plain": [
              "BsmtExposure\n",
              "No    1986\n",
              "Av     418\n",
              "Gd     276\n",
              "Mn     239\n",
              "Name: count, dtype: int64"
            ],
            "text/html": [
              "<div>\n",
              "<style scoped>\n",
              "    .dataframe tbody tr th:only-of-type {\n",
              "        vertical-align: middle;\n",
              "    }\n",
              "\n",
              "    .dataframe tbody tr th {\n",
              "        vertical-align: top;\n",
              "    }\n",
              "\n",
              "    .dataframe thead th {\n",
              "        text-align: right;\n",
              "    }\n",
              "</style>\n",
              "<table border=\"1\" class=\"dataframe\">\n",
              "  <thead>\n",
              "    <tr style=\"text-align: right;\">\n",
              "      <th></th>\n",
              "      <th>count</th>\n",
              "    </tr>\n",
              "    <tr>\n",
              "      <th>BsmtExposure</th>\n",
              "      <th></th>\n",
              "    </tr>\n",
              "  </thead>\n",
              "  <tbody>\n",
              "    <tr>\n",
              "      <th>No</th>\n",
              "      <td>1986</td>\n",
              "    </tr>\n",
              "    <tr>\n",
              "      <th>Av</th>\n",
              "      <td>418</td>\n",
              "    </tr>\n",
              "    <tr>\n",
              "      <th>Gd</th>\n",
              "      <td>276</td>\n",
              "    </tr>\n",
              "    <tr>\n",
              "      <th>Mn</th>\n",
              "      <td>239</td>\n",
              "    </tr>\n",
              "  </tbody>\n",
              "</table>\n",
              "</div><br><label><b>dtype:</b> int64</label>"
            ]
          },
          "metadata": {},
          "execution_count": 59
        }
      ]
    },
    {
      "cell_type": "code",
      "source": [
        "d['BsmtExposure']=d['BsmtExposure'].astype(CategoricalDtype(categories=['NA','No','Mn','Av','Gd'],ordered=True)).cat.codes"
      ],
      "metadata": {
        "id": "KtCwTR6qaOz6"
      },
      "execution_count": 60,
      "outputs": []
    },
    {
      "cell_type": "code",
      "source": [
        "d['BsmtExposure'].value_counts()"
      ],
      "metadata": {
        "colab": {
          "base_uri": "https://localhost:8080/",
          "height": 241
        },
        "id": "1w40g_rCaVDx",
        "outputId": "545d3d6c-6c44-47a9-ab83-592e74d8b4da"
      },
      "execution_count": 61,
      "outputs": [
        {
          "output_type": "execute_result",
          "data": {
            "text/plain": [
              "BsmtExposure\n",
              "1    1986\n",
              "3     418\n",
              "4     276\n",
              "2     239\n",
              "Name: count, dtype: int64"
            ],
            "text/html": [
              "<div>\n",
              "<style scoped>\n",
              "    .dataframe tbody tr th:only-of-type {\n",
              "        vertical-align: middle;\n",
              "    }\n",
              "\n",
              "    .dataframe tbody tr th {\n",
              "        vertical-align: top;\n",
              "    }\n",
              "\n",
              "    .dataframe thead th {\n",
              "        text-align: right;\n",
              "    }\n",
              "</style>\n",
              "<table border=\"1\" class=\"dataframe\">\n",
              "  <thead>\n",
              "    <tr style=\"text-align: right;\">\n",
              "      <th></th>\n",
              "      <th>count</th>\n",
              "    </tr>\n",
              "    <tr>\n",
              "      <th>BsmtExposure</th>\n",
              "      <th></th>\n",
              "    </tr>\n",
              "  </thead>\n",
              "  <tbody>\n",
              "    <tr>\n",
              "      <th>1</th>\n",
              "      <td>1986</td>\n",
              "    </tr>\n",
              "    <tr>\n",
              "      <th>3</th>\n",
              "      <td>418</td>\n",
              "    </tr>\n",
              "    <tr>\n",
              "      <th>4</th>\n",
              "      <td>276</td>\n",
              "    </tr>\n",
              "    <tr>\n",
              "      <th>2</th>\n",
              "      <td>239</td>\n",
              "    </tr>\n",
              "  </tbody>\n",
              "</table>\n",
              "</div><br><label><b>dtype:</b> int64</label>"
            ]
          },
          "metadata": {},
          "execution_count": 61
        }
      ]
    },
    {
      "cell_type": "code",
      "source": [
        "d['ExterCond']=d['ExterCond'].astype(CategoricalDtype(categories=['Po','Fa','TA','Gd','Ex'],ordered=True)).cat.codes\n",
        "d['BsmtQual']=d['BsmtQual'].astype(CategoricalDtype(categories=['NA','Po','Fa','TA','Gd','Ex'],ordered=True)).cat.codes\n",
        "d['BsmtCond']=d['BsmtCond'].astype(CategoricalDtype(categories=['NA','Po','Fa','TA','Gd','Ex'],ordered=True)).cat.codes\n",
        "d['HeatingQC']=d['HeatingQC'].astype(CategoricalDtype(categories=['NA','Unf','LwQ','Rec','BLQ','ALQ','GLQ'],ordered=True)).cat.codes\n",
        "d['KitchenQual']=d['KitchenQual'].astype(CategoricalDtype(categories=['Po','Fa','TA','Gd','Ex'],ordered=True)).cat.codes\n",
        "d['FireplaceQu']=d['FireplaceQu'].astype(CategoricalDtype(categories=['NA','Po','Fa','TA','Gd','Ex'],ordered=True)).cat.codes\n",
        "d['GarageQual']=d['GarageQual'].astype(CategoricalDtype(categories=['NA','Po','Fa','TA','Gd','Ex'],ordered=True)).cat.codes\n",
        "d['GarageCond']=d['GarageCond'].astype(CategoricalDtype(categories=['NA','Po','Fa','TA','Gd','Ex'],ordered=True)).cat.codes\n",
        "d['Functional']=d['Functional'].astype(CategoricalDtype(categories=['Sal','Sev','Maj2','Maj1','Mod','Min2','Min1','Typ'],ordered=True)).cat.codes\n",
        "d['GarageFinish']=d['GarageFinish'].astype(CategoricalDtype(categories=['NA','Unf','RFn','Fin'],ordered=True)).cat.codes\n",
        "d['PavedDrive']=d['PavedDrive'].astype(CategoricalDtype(categories=['N','P','Y'],ordered=True)).cat.codes\n",
        "d['Utilities']=d['Utilities'].astype(CategoricalDtype(categories=['ELO','NoSeWa','NoSeWr','AllPub'],ordered=True)).cat.codes\n",
        "d['BsmtFinType1']=d['BsmtFinType1'].astype(CategoricalDtype(categories=['NA','Unf','LwQ','Rec','BLQ','ALQ','GLQ'],ordered=True)).cat.codes\n",
        "d['BsmtFinType2']=d['BsmtFinType2'].astype(CategoricalDtype(categories=['NA','Unf','LwQ','Rec','BLQ','ALQ','GLQ'],ordered=True)).cat.codes"
      ],
      "metadata": {
        "id": "wJ5mOCZLaZew"
      },
      "execution_count": 62,
      "outputs": []
    },
    {
      "cell_type": "code",
      "source": [
        "d.info()"
      ],
      "metadata": {
        "colab": {
          "base_uri": "https://localhost:8080/"
        },
        "id": "Fo5j2dthapPE",
        "outputId": "8b8be46e-48d8-42df-cb09-1b1f72f36157"
      },
      "execution_count": 63,
      "outputs": [
        {
          "output_type": "stream",
          "name": "stdout",
          "text": [
            "<class 'pandas.core.frame.DataFrame'>\n",
            "Index: 2919 entries, 0 to 1458\n",
            "Data columns (total 77 columns):\n",
            " #   Column         Non-Null Count  Dtype  \n",
            "---  ------         --------------  -----  \n",
            " 0   Id             2919 non-null   int64  \n",
            " 1   MSSubClass     2919 non-null   int64  \n",
            " 2   MSZoning       2919 non-null   object \n",
            " 3   LotFrontage    2919 non-null   float64\n",
            " 4   LotArea        2919 non-null   int64  \n",
            " 5   Street         2919 non-null   object \n",
            " 6   LotShape       2919 non-null   object \n",
            " 7   LandContour    2919 non-null   object \n",
            " 8   Utilities      2919 non-null   int8   \n",
            " 9   LotConfig      2919 non-null   object \n",
            " 10  LandSlope      2919 non-null   object \n",
            " 11  Neighborhood   2919 non-null   object \n",
            " 12  Condition1     2919 non-null   object \n",
            " 13  Condition2     2919 non-null   object \n",
            " 14  BldgType       2919 non-null   object \n",
            " 15  HouseStyle     2919 non-null   object \n",
            " 16  OverallQual    2919 non-null   int64  \n",
            " 17  OverallCond    2919 non-null   int64  \n",
            " 18  YearBuilt      2919 non-null   int64  \n",
            " 19  YearRemodAdd   2919 non-null   int64  \n",
            " 20  RoofStyle      2919 non-null   object \n",
            " 21  RoofMatl       2919 non-null   object \n",
            " 22  Exterior1st    2918 non-null   object \n",
            " 23  Exterior2nd    2918 non-null   object \n",
            " 24  MasVnrType     2919 non-null   object \n",
            " 25  MasVnrArea     2919 non-null   float64\n",
            " 26  ExterQual      2919 non-null   int8   \n",
            " 27  ExterCond      2919 non-null   int8   \n",
            " 28  Foundation     2919 non-null   object \n",
            " 29  BsmtQual       2919 non-null   int8   \n",
            " 30  BsmtCond       2919 non-null   int8   \n",
            " 31  BsmtExposure   2919 non-null   int8   \n",
            " 32  BsmtFinType1   2919 non-null   int8   \n",
            " 33  BsmtFinSF1     2919 non-null   object \n",
            " 34  BsmtFinType2   2919 non-null   int8   \n",
            " 35  BsmtFinSF2     2918 non-null   float64\n",
            " 36  BsmtUnfSF      2919 non-null   float64\n",
            " 37  TotalBsmtSF    2918 non-null   float64\n",
            " 38  Heating        2919 non-null   object \n",
            " 39  HeatingQC      2919 non-null   int8   \n",
            " 40  CentralAir     2919 non-null   object \n",
            " 41  Electrical     2918 non-null   object \n",
            " 42  1stFlrSF       2919 non-null   int64  \n",
            " 43  2ndFlrSF       2919 non-null   int64  \n",
            " 44  LowQualFinSF   2919 non-null   int64  \n",
            " 45  GrLivArea      2919 non-null   int64  \n",
            " 46  BsmtFullBath   2917 non-null   float64\n",
            " 47  BsmtHalfBath   2917 non-null   float64\n",
            " 48  FullBath       2919 non-null   int64  \n",
            " 49  HalfBath       2919 non-null   int64  \n",
            " 50  BedroomAbvGr   2919 non-null   int64  \n",
            " 51  KitchenAbvGr   2919 non-null   int64  \n",
            " 52  KitchenQual    2919 non-null   int8   \n",
            " 53  TotRmsAbvGrd   2919 non-null   int64  \n",
            " 54  Functional     2919 non-null   int8   \n",
            " 55  Fireplaces     2919 non-null   int64  \n",
            " 56  FireplaceQu    2919 non-null   int8   \n",
            " 57  GarageType     2919 non-null   object \n",
            " 58  GarageYrBlt    2919 non-null   float64\n",
            " 59  GarageFinish   2919 non-null   int8   \n",
            " 60  GarageCars     2918 non-null   float64\n",
            " 61  GarageArea     2918 non-null   float64\n",
            " 62  GarageQual     2919 non-null   int8   \n",
            " 63  GarageCond     2919 non-null   int8   \n",
            " 64  PavedDrive     2919 non-null   int8   \n",
            " 65  WoodDeckSF     2919 non-null   int64  \n",
            " 66  OpenPorchSF    2919 non-null   int64  \n",
            " 67  EnclosedPorch  2919 non-null   int64  \n",
            " 68  3SsnPorch      2919 non-null   int64  \n",
            " 69  ScreenPorch    2919 non-null   int64  \n",
            " 70  PoolArea       2919 non-null   int64  \n",
            " 71  MiscVal        2919 non-null   int64  \n",
            " 72  MoSold         2919 non-null   int64  \n",
            " 73  YrSold         2919 non-null   int64  \n",
            " 74  SaleType       2919 non-null   object \n",
            " 75  SaleCondition  2919 non-null   object \n",
            " 76  SalePrice      2919 non-null   float64\n",
            "dtypes: float64(11), int64(26), int8(16), object(24)\n",
            "memory usage: 1.4+ MB\n"
          ]
        }
      ]
    },
    {
      "cell_type": "code",
      "source": [
        "d_encod=d.copy()"
      ],
      "metadata": {
        "id": "aW6HwFxlaslm"
      },
      "execution_count": 64,
      "outputs": []
    },
    {
      "cell_type": "code",
      "source": [
        "object_fea=d_encod.select_dtypes(include='object').columns.tolist()\n",
        "print(len(object_fea))\n",
        "print(object_fea)"
      ],
      "metadata": {
        "colab": {
          "base_uri": "https://localhost:8080/"
        },
        "id": "QqYerXSxbO2S",
        "outputId": "d0d47dd6-263d-469d-d030-52f9f8b5aaf3"
      },
      "execution_count": 65,
      "outputs": [
        {
          "output_type": "stream",
          "name": "stdout",
          "text": [
            "24\n",
            "['MSZoning', 'Street', 'LotShape', 'LandContour', 'LotConfig', 'LandSlope', 'Neighborhood', 'Condition1', 'Condition2', 'BldgType', 'HouseStyle', 'RoofStyle', 'RoofMatl', 'Exterior1st', 'Exterior2nd', 'MasVnrType', 'Foundation', 'BsmtFinSF1', 'Heating', 'CentralAir', 'Electrical', 'GarageType', 'SaleType', 'SaleCondition']\n"
          ]
        }
      ]
    },
    {
      "cell_type": "code",
      "source": [
        "d_encod[object_fea].head(2)"
      ],
      "metadata": {
        "colab": {
          "base_uri": "https://localhost:8080/",
          "height": 161
        },
        "id": "53WMLQ6ibTFj",
        "outputId": "e5e7c327-d80a-4002-fc2c-c45d672185dd"
      },
      "execution_count": 66,
      "outputs": [
        {
          "output_type": "execute_result",
          "data": {
            "text/plain": [
              "  MSZoning Street LotShape LandContour LotConfig LandSlope Neighborhood  \\\n",
              "0       RL   Pave      Reg         Lvl    Inside       Gtl      CollgCr   \n",
              "1       RL   Pave      Reg         Lvl       FR2       Gtl      Veenker   \n",
              "\n",
              "  Condition1 Condition2 BldgType  ... Exterior2nd MasVnrType Foundation  \\\n",
              "0       Norm       Norm     1Fam  ...     VinylSd    BrkFace      PConc   \n",
              "1      Feedr       Norm     1Fam  ...     MetalSd    BrkFace     CBlock   \n",
              "\n",
              "  BsmtFinSF1 Heating CentralAir Electrical GarageType SaleType SaleCondition  \n",
              "0        GLQ    GasA          Y      SBrkr     Attchd       WD        Normal  \n",
              "1        ALQ    GasA          Y      SBrkr     Attchd       WD        Normal  \n",
              "\n",
              "[2 rows x 24 columns]"
            ],
            "text/html": [
              "\n",
              "  <div id=\"df-a60d12f5-efe6-48af-9e07-de73b8f383ae\" class=\"colab-df-container\">\n",
              "    <div>\n",
              "<style scoped>\n",
              "    .dataframe tbody tr th:only-of-type {\n",
              "        vertical-align: middle;\n",
              "    }\n",
              "\n",
              "    .dataframe tbody tr th {\n",
              "        vertical-align: top;\n",
              "    }\n",
              "\n",
              "    .dataframe thead th {\n",
              "        text-align: right;\n",
              "    }\n",
              "</style>\n",
              "<table border=\"1\" class=\"dataframe\">\n",
              "  <thead>\n",
              "    <tr style=\"text-align: right;\">\n",
              "      <th></th>\n",
              "      <th>MSZoning</th>\n",
              "      <th>Street</th>\n",
              "      <th>LotShape</th>\n",
              "      <th>LandContour</th>\n",
              "      <th>LotConfig</th>\n",
              "      <th>LandSlope</th>\n",
              "      <th>Neighborhood</th>\n",
              "      <th>Condition1</th>\n",
              "      <th>Condition2</th>\n",
              "      <th>BldgType</th>\n",
              "      <th>...</th>\n",
              "      <th>Exterior2nd</th>\n",
              "      <th>MasVnrType</th>\n",
              "      <th>Foundation</th>\n",
              "      <th>BsmtFinSF1</th>\n",
              "      <th>Heating</th>\n",
              "      <th>CentralAir</th>\n",
              "      <th>Electrical</th>\n",
              "      <th>GarageType</th>\n",
              "      <th>SaleType</th>\n",
              "      <th>SaleCondition</th>\n",
              "    </tr>\n",
              "  </thead>\n",
              "  <tbody>\n",
              "    <tr>\n",
              "      <th>0</th>\n",
              "      <td>RL</td>\n",
              "      <td>Pave</td>\n",
              "      <td>Reg</td>\n",
              "      <td>Lvl</td>\n",
              "      <td>Inside</td>\n",
              "      <td>Gtl</td>\n",
              "      <td>CollgCr</td>\n",
              "      <td>Norm</td>\n",
              "      <td>Norm</td>\n",
              "      <td>1Fam</td>\n",
              "      <td>...</td>\n",
              "      <td>VinylSd</td>\n",
              "      <td>BrkFace</td>\n",
              "      <td>PConc</td>\n",
              "      <td>GLQ</td>\n",
              "      <td>GasA</td>\n",
              "      <td>Y</td>\n",
              "      <td>SBrkr</td>\n",
              "      <td>Attchd</td>\n",
              "      <td>WD</td>\n",
              "      <td>Normal</td>\n",
              "    </tr>\n",
              "    <tr>\n",
              "      <th>1</th>\n",
              "      <td>RL</td>\n",
              "      <td>Pave</td>\n",
              "      <td>Reg</td>\n",
              "      <td>Lvl</td>\n",
              "      <td>FR2</td>\n",
              "      <td>Gtl</td>\n",
              "      <td>Veenker</td>\n",
              "      <td>Feedr</td>\n",
              "      <td>Norm</td>\n",
              "      <td>1Fam</td>\n",
              "      <td>...</td>\n",
              "      <td>MetalSd</td>\n",
              "      <td>BrkFace</td>\n",
              "      <td>CBlock</td>\n",
              "      <td>ALQ</td>\n",
              "      <td>GasA</td>\n",
              "      <td>Y</td>\n",
              "      <td>SBrkr</td>\n",
              "      <td>Attchd</td>\n",
              "      <td>WD</td>\n",
              "      <td>Normal</td>\n",
              "    </tr>\n",
              "  </tbody>\n",
              "</table>\n",
              "<p>2 rows × 24 columns</p>\n",
              "</div>\n",
              "    <div class=\"colab-df-buttons\">\n",
              "\n",
              "  <div class=\"colab-df-container\">\n",
              "    <button class=\"colab-df-convert\" onclick=\"convertToInteractive('df-a60d12f5-efe6-48af-9e07-de73b8f383ae')\"\n",
              "            title=\"Convert this dataframe to an interactive table.\"\n",
              "            style=\"display:none;\">\n",
              "\n",
              "  <svg xmlns=\"http://www.w3.org/2000/svg\" height=\"24px\" viewBox=\"0 -960 960 960\">\n",
              "    <path d=\"M120-120v-720h720v720H120Zm60-500h600v-160H180v160Zm220 220h160v-160H400v160Zm0 220h160v-160H400v160ZM180-400h160v-160H180v160Zm440 0h160v-160H620v160ZM180-180h160v-160H180v160Zm440 0h160v-160H620v160Z\"/>\n",
              "  </svg>\n",
              "    </button>\n",
              "\n",
              "  <style>\n",
              "    .colab-df-container {\n",
              "      display:flex;\n",
              "      gap: 12px;\n",
              "    }\n",
              "\n",
              "    .colab-df-convert {\n",
              "      background-color: #E8F0FE;\n",
              "      border: none;\n",
              "      border-radius: 50%;\n",
              "      cursor: pointer;\n",
              "      display: none;\n",
              "      fill: #1967D2;\n",
              "      height: 32px;\n",
              "      padding: 0 0 0 0;\n",
              "      width: 32px;\n",
              "    }\n",
              "\n",
              "    .colab-df-convert:hover {\n",
              "      background-color: #E2EBFA;\n",
              "      box-shadow: 0px 1px 2px rgba(60, 64, 67, 0.3), 0px 1px 3px 1px rgba(60, 64, 67, 0.15);\n",
              "      fill: #174EA6;\n",
              "    }\n",
              "\n",
              "    .colab-df-buttons div {\n",
              "      margin-bottom: 4px;\n",
              "    }\n",
              "\n",
              "    [theme=dark] .colab-df-convert {\n",
              "      background-color: #3B4455;\n",
              "      fill: #D2E3FC;\n",
              "    }\n",
              "\n",
              "    [theme=dark] .colab-df-convert:hover {\n",
              "      background-color: #434B5C;\n",
              "      box-shadow: 0px 1px 3px 1px rgba(0, 0, 0, 0.15);\n",
              "      filter: drop-shadow(0px 1px 2px rgba(0, 0, 0, 0.3));\n",
              "      fill: #FFFFFF;\n",
              "    }\n",
              "  </style>\n",
              "\n",
              "    <script>\n",
              "      const buttonEl =\n",
              "        document.querySelector('#df-a60d12f5-efe6-48af-9e07-de73b8f383ae button.colab-df-convert');\n",
              "      buttonEl.style.display =\n",
              "        google.colab.kernel.accessAllowed ? 'block' : 'none';\n",
              "\n",
              "      async function convertToInteractive(key) {\n",
              "        const element = document.querySelector('#df-a60d12f5-efe6-48af-9e07-de73b8f383ae');\n",
              "        const dataTable =\n",
              "          await google.colab.kernel.invokeFunction('convertToInteractive',\n",
              "                                                    [key], {});\n",
              "        if (!dataTable) return;\n",
              "\n",
              "        const docLinkHtml = 'Like what you see? Visit the ' +\n",
              "          '<a target=\"_blank\" href=https://colab.research.google.com/notebooks/data_table.ipynb>data table notebook</a>'\n",
              "          + ' to learn more about interactive tables.';\n",
              "        element.innerHTML = '';\n",
              "        dataTable['output_type'] = 'display_data';\n",
              "        await google.colab.output.renderOutput(dataTable, element);\n",
              "        const docLink = document.createElement('div');\n",
              "        docLink.innerHTML = docLinkHtml;\n",
              "        element.appendChild(docLink);\n",
              "      }\n",
              "    </script>\n",
              "  </div>\n",
              "\n",
              "\n",
              "<div id=\"df-e83887e6-bdf7-44d9-8d92-25c44bf6f92d\">\n",
              "  <button class=\"colab-df-quickchart\" onclick=\"quickchart('df-e83887e6-bdf7-44d9-8d92-25c44bf6f92d')\"\n",
              "            title=\"Suggest charts\"\n",
              "            style=\"display:none;\">\n",
              "\n",
              "<svg xmlns=\"http://www.w3.org/2000/svg\" height=\"24px\"viewBox=\"0 0 24 24\"\n",
              "     width=\"24px\">\n",
              "    <g>\n",
              "        <path d=\"M19 3H5c-1.1 0-2 .9-2 2v14c0 1.1.9 2 2 2h14c1.1 0 2-.9 2-2V5c0-1.1-.9-2-2-2zM9 17H7v-7h2v7zm4 0h-2V7h2v10zm4 0h-2v-4h2v4z\"/>\n",
              "    </g>\n",
              "</svg>\n",
              "  </button>\n",
              "\n",
              "<style>\n",
              "  .colab-df-quickchart {\n",
              "      --bg-color: #E8F0FE;\n",
              "      --fill-color: #1967D2;\n",
              "      --hover-bg-color: #E2EBFA;\n",
              "      --hover-fill-color: #174EA6;\n",
              "      --disabled-fill-color: #AAA;\n",
              "      --disabled-bg-color: #DDD;\n",
              "  }\n",
              "\n",
              "  [theme=dark] .colab-df-quickchart {\n",
              "      --bg-color: #3B4455;\n",
              "      --fill-color: #D2E3FC;\n",
              "      --hover-bg-color: #434B5C;\n",
              "      --hover-fill-color: #FFFFFF;\n",
              "      --disabled-bg-color: #3B4455;\n",
              "      --disabled-fill-color: #666;\n",
              "  }\n",
              "\n",
              "  .colab-df-quickchart {\n",
              "    background-color: var(--bg-color);\n",
              "    border: none;\n",
              "    border-radius: 50%;\n",
              "    cursor: pointer;\n",
              "    display: none;\n",
              "    fill: var(--fill-color);\n",
              "    height: 32px;\n",
              "    padding: 0;\n",
              "    width: 32px;\n",
              "  }\n",
              "\n",
              "  .colab-df-quickchart:hover {\n",
              "    background-color: var(--hover-bg-color);\n",
              "    box-shadow: 0 1px 2px rgba(60, 64, 67, 0.3), 0 1px 3px 1px rgba(60, 64, 67, 0.15);\n",
              "    fill: var(--button-hover-fill-color);\n",
              "  }\n",
              "\n",
              "  .colab-df-quickchart-complete:disabled,\n",
              "  .colab-df-quickchart-complete:disabled:hover {\n",
              "    background-color: var(--disabled-bg-color);\n",
              "    fill: var(--disabled-fill-color);\n",
              "    box-shadow: none;\n",
              "  }\n",
              "\n",
              "  .colab-df-spinner {\n",
              "    border: 2px solid var(--fill-color);\n",
              "    border-color: transparent;\n",
              "    border-bottom-color: var(--fill-color);\n",
              "    animation:\n",
              "      spin 1s steps(1) infinite;\n",
              "  }\n",
              "\n",
              "  @keyframes spin {\n",
              "    0% {\n",
              "      border-color: transparent;\n",
              "      border-bottom-color: var(--fill-color);\n",
              "      border-left-color: var(--fill-color);\n",
              "    }\n",
              "    20% {\n",
              "      border-color: transparent;\n",
              "      border-left-color: var(--fill-color);\n",
              "      border-top-color: var(--fill-color);\n",
              "    }\n",
              "    30% {\n",
              "      border-color: transparent;\n",
              "      border-left-color: var(--fill-color);\n",
              "      border-top-color: var(--fill-color);\n",
              "      border-right-color: var(--fill-color);\n",
              "    }\n",
              "    40% {\n",
              "      border-color: transparent;\n",
              "      border-right-color: var(--fill-color);\n",
              "      border-top-color: var(--fill-color);\n",
              "    }\n",
              "    60% {\n",
              "      border-color: transparent;\n",
              "      border-right-color: var(--fill-color);\n",
              "    }\n",
              "    80% {\n",
              "      border-color: transparent;\n",
              "      border-right-color: var(--fill-color);\n",
              "      border-bottom-color: var(--fill-color);\n",
              "    }\n",
              "    90% {\n",
              "      border-color: transparent;\n",
              "      border-bottom-color: var(--fill-color);\n",
              "    }\n",
              "  }\n",
              "</style>\n",
              "\n",
              "  <script>\n",
              "    async function quickchart(key) {\n",
              "      const quickchartButtonEl =\n",
              "        document.querySelector('#' + key + ' button');\n",
              "      quickchartButtonEl.disabled = true;  // To prevent multiple clicks.\n",
              "      quickchartButtonEl.classList.add('colab-df-spinner');\n",
              "      try {\n",
              "        const charts = await google.colab.kernel.invokeFunction(\n",
              "            'suggestCharts', [key], {});\n",
              "      } catch (error) {\n",
              "        console.error('Error during call to suggestCharts:', error);\n",
              "      }\n",
              "      quickchartButtonEl.classList.remove('colab-df-spinner');\n",
              "      quickchartButtonEl.classList.add('colab-df-quickchart-complete');\n",
              "    }\n",
              "    (() => {\n",
              "      let quickchartButtonEl =\n",
              "        document.querySelector('#df-e83887e6-bdf7-44d9-8d92-25c44bf6f92d button');\n",
              "      quickchartButtonEl.style.display =\n",
              "        google.colab.kernel.accessAllowed ? 'block' : 'none';\n",
              "    })();\n",
              "  </script>\n",
              "</div>\n",
              "\n",
              "    </div>\n",
              "  </div>\n"
            ],
            "application/vnd.google.colaboratory.intrinsic+json": {
              "type": "dataframe"
            }
          },
          "metadata": {},
          "execution_count": 66
        }
      ]
    },
    {
      "cell_type": "code",
      "source": [
        "print(\"bfr\",d_encod.shape)\n",
        "d_encod=pd.get_dummies(d_encod,\n",
        "                       columns=object_fea,\n",
        "                       prefix=object_fea,\n",
        "                       drop_first=True)\n",
        "print(\"aftr\",d_encod.shape)"
      ],
      "metadata": {
        "colab": {
          "base_uri": "https://localhost:8080/"
        },
        "id": "Yv3Kzsr1bXca",
        "outputId": "1b7e448d-892f-4cb1-c3a1-329fe4105c34"
      },
      "execution_count": 67,
      "outputs": [
        {
          "output_type": "stream",
          "name": "stdout",
          "text": [
            "bfr (2919, 77)\n",
            "aftr (2919, 201)\n"
          ]
        }
      ]
    },
    {
      "cell_type": "code",
      "source": [
        "d_encod.head(10)"
      ],
      "metadata": {
        "colab": {
          "base_uri": "https://localhost:8080/",
          "height": 412
        },
        "id": "_gpBe53_bdFp",
        "outputId": "102733dd-db86-4148-cd1d-65f3272cdcb1"
      },
      "execution_count": 68,
      "outputs": [
        {
          "output_type": "execute_result",
          "data": {
            "text/plain": [
              "   Id  MSSubClass  LotFrontage  LotArea  Utilities  OverallQual  OverallCond  \\\n",
              "0   1          60    65.000000     8450          3            7            5   \n",
              "1   2          20    80.000000     9600          3            6            8   \n",
              "2   3          60    68.000000    11250          3            7            5   \n",
              "3   4          70    60.000000     9550          3            7            5   \n",
              "4   5          60    84.000000    14260          3            8            5   \n",
              "5   6          50    85.000000    14115          3            5            5   \n",
              "6   7          20    75.000000    10084          3            8            5   \n",
              "7   8          60    69.305795    10382          3            7            6   \n",
              "8   9          50    51.000000     6120          3            7            5   \n",
              "9  10         190    50.000000     7420          3            5            6   \n",
              "\n",
              "   YearBuilt  YearRemodAdd  MasVnrArea  ...  SaleType_ConLI  SaleType_ConLw  \\\n",
              "0       2003          2003       196.0  ...           False           False   \n",
              "1       1976          1976         0.0  ...           False           False   \n",
              "2       2001          2002       162.0  ...           False           False   \n",
              "3       1915          1970         0.0  ...           False           False   \n",
              "4       2000          2000       350.0  ...           False           False   \n",
              "5       1993          1995         0.0  ...           False           False   \n",
              "6       2004          2005       186.0  ...           False           False   \n",
              "7       1973          1973       240.0  ...           False           False   \n",
              "8       1931          1950         0.0  ...           False           False   \n",
              "9       1939          1950         0.0  ...           False           False   \n",
              "\n",
              "   SaleType_New  SaleType_Oth  SaleType_WD  SaleCondition_AdjLand  \\\n",
              "0         False         False         True                  False   \n",
              "1         False         False         True                  False   \n",
              "2         False         False         True                  False   \n",
              "3         False         False         True                  False   \n",
              "4         False         False         True                  False   \n",
              "5         False         False         True                  False   \n",
              "6         False         False         True                  False   \n",
              "7         False         False         True                  False   \n",
              "8         False         False         True                  False   \n",
              "9         False         False         True                  False   \n",
              "\n",
              "   SaleCondition_Alloca  SaleCondition_Family  SaleCondition_Normal  \\\n",
              "0                 False                 False                  True   \n",
              "1                 False                 False                  True   \n",
              "2                 False                 False                  True   \n",
              "3                 False                 False                 False   \n",
              "4                 False                 False                  True   \n",
              "5                 False                 False                  True   \n",
              "6                 False                 False                  True   \n",
              "7                 False                 False                  True   \n",
              "8                 False                 False                 False   \n",
              "9                 False                 False                  True   \n",
              "\n",
              "   SaleCondition_Partial  \n",
              "0                  False  \n",
              "1                  False  \n",
              "2                  False  \n",
              "3                  False  \n",
              "4                  False  \n",
              "5                  False  \n",
              "6                  False  \n",
              "7                  False  \n",
              "8                  False  \n",
              "9                  False  \n",
              "\n",
              "[10 rows x 201 columns]"
            ],
            "text/html": [
              "\n",
              "  <div id=\"df-82bd1be1-1574-4c28-a11a-7af34ea941bc\" class=\"colab-df-container\">\n",
              "    <div>\n",
              "<style scoped>\n",
              "    .dataframe tbody tr th:only-of-type {\n",
              "        vertical-align: middle;\n",
              "    }\n",
              "\n",
              "    .dataframe tbody tr th {\n",
              "        vertical-align: top;\n",
              "    }\n",
              "\n",
              "    .dataframe thead th {\n",
              "        text-align: right;\n",
              "    }\n",
              "</style>\n",
              "<table border=\"1\" class=\"dataframe\">\n",
              "  <thead>\n",
              "    <tr style=\"text-align: right;\">\n",
              "      <th></th>\n",
              "      <th>Id</th>\n",
              "      <th>MSSubClass</th>\n",
              "      <th>LotFrontage</th>\n",
              "      <th>LotArea</th>\n",
              "      <th>Utilities</th>\n",
              "      <th>OverallQual</th>\n",
              "      <th>OverallCond</th>\n",
              "      <th>YearBuilt</th>\n",
              "      <th>YearRemodAdd</th>\n",
              "      <th>MasVnrArea</th>\n",
              "      <th>...</th>\n",
              "      <th>SaleType_ConLI</th>\n",
              "      <th>SaleType_ConLw</th>\n",
              "      <th>SaleType_New</th>\n",
              "      <th>SaleType_Oth</th>\n",
              "      <th>SaleType_WD</th>\n",
              "      <th>SaleCondition_AdjLand</th>\n",
              "      <th>SaleCondition_Alloca</th>\n",
              "      <th>SaleCondition_Family</th>\n",
              "      <th>SaleCondition_Normal</th>\n",
              "      <th>SaleCondition_Partial</th>\n",
              "    </tr>\n",
              "  </thead>\n",
              "  <tbody>\n",
              "    <tr>\n",
              "      <th>0</th>\n",
              "      <td>1</td>\n",
              "      <td>60</td>\n",
              "      <td>65.000000</td>\n",
              "      <td>8450</td>\n",
              "      <td>3</td>\n",
              "      <td>7</td>\n",
              "      <td>5</td>\n",
              "      <td>2003</td>\n",
              "      <td>2003</td>\n",
              "      <td>196.0</td>\n",
              "      <td>...</td>\n",
              "      <td>False</td>\n",
              "      <td>False</td>\n",
              "      <td>False</td>\n",
              "      <td>False</td>\n",
              "      <td>True</td>\n",
              "      <td>False</td>\n",
              "      <td>False</td>\n",
              "      <td>False</td>\n",
              "      <td>True</td>\n",
              "      <td>False</td>\n",
              "    </tr>\n",
              "    <tr>\n",
              "      <th>1</th>\n",
              "      <td>2</td>\n",
              "      <td>20</td>\n",
              "      <td>80.000000</td>\n",
              "      <td>9600</td>\n",
              "      <td>3</td>\n",
              "      <td>6</td>\n",
              "      <td>8</td>\n",
              "      <td>1976</td>\n",
              "      <td>1976</td>\n",
              "      <td>0.0</td>\n",
              "      <td>...</td>\n",
              "      <td>False</td>\n",
              "      <td>False</td>\n",
              "      <td>False</td>\n",
              "      <td>False</td>\n",
              "      <td>True</td>\n",
              "      <td>False</td>\n",
              "      <td>False</td>\n",
              "      <td>False</td>\n",
              "      <td>True</td>\n",
              "      <td>False</td>\n",
              "    </tr>\n",
              "    <tr>\n",
              "      <th>2</th>\n",
              "      <td>3</td>\n",
              "      <td>60</td>\n",
              "      <td>68.000000</td>\n",
              "      <td>11250</td>\n",
              "      <td>3</td>\n",
              "      <td>7</td>\n",
              "      <td>5</td>\n",
              "      <td>2001</td>\n",
              "      <td>2002</td>\n",
              "      <td>162.0</td>\n",
              "      <td>...</td>\n",
              "      <td>False</td>\n",
              "      <td>False</td>\n",
              "      <td>False</td>\n",
              "      <td>False</td>\n",
              "      <td>True</td>\n",
              "      <td>False</td>\n",
              "      <td>False</td>\n",
              "      <td>False</td>\n",
              "      <td>True</td>\n",
              "      <td>False</td>\n",
              "    </tr>\n",
              "    <tr>\n",
              "      <th>3</th>\n",
              "      <td>4</td>\n",
              "      <td>70</td>\n",
              "      <td>60.000000</td>\n",
              "      <td>9550</td>\n",
              "      <td>3</td>\n",
              "      <td>7</td>\n",
              "      <td>5</td>\n",
              "      <td>1915</td>\n",
              "      <td>1970</td>\n",
              "      <td>0.0</td>\n",
              "      <td>...</td>\n",
              "      <td>False</td>\n",
              "      <td>False</td>\n",
              "      <td>False</td>\n",
              "      <td>False</td>\n",
              "      <td>True</td>\n",
              "      <td>False</td>\n",
              "      <td>False</td>\n",
              "      <td>False</td>\n",
              "      <td>False</td>\n",
              "      <td>False</td>\n",
              "    </tr>\n",
              "    <tr>\n",
              "      <th>4</th>\n",
              "      <td>5</td>\n",
              "      <td>60</td>\n",
              "      <td>84.000000</td>\n",
              "      <td>14260</td>\n",
              "      <td>3</td>\n",
              "      <td>8</td>\n",
              "      <td>5</td>\n",
              "      <td>2000</td>\n",
              "      <td>2000</td>\n",
              "      <td>350.0</td>\n",
              "      <td>...</td>\n",
              "      <td>False</td>\n",
              "      <td>False</td>\n",
              "      <td>False</td>\n",
              "      <td>False</td>\n",
              "      <td>True</td>\n",
              "      <td>False</td>\n",
              "      <td>False</td>\n",
              "      <td>False</td>\n",
              "      <td>True</td>\n",
              "      <td>False</td>\n",
              "    </tr>\n",
              "    <tr>\n",
              "      <th>5</th>\n",
              "      <td>6</td>\n",
              "      <td>50</td>\n",
              "      <td>85.000000</td>\n",
              "      <td>14115</td>\n",
              "      <td>3</td>\n",
              "      <td>5</td>\n",
              "      <td>5</td>\n",
              "      <td>1993</td>\n",
              "      <td>1995</td>\n",
              "      <td>0.0</td>\n",
              "      <td>...</td>\n",
              "      <td>False</td>\n",
              "      <td>False</td>\n",
              "      <td>False</td>\n",
              "      <td>False</td>\n",
              "      <td>True</td>\n",
              "      <td>False</td>\n",
              "      <td>False</td>\n",
              "      <td>False</td>\n",
              "      <td>True</td>\n",
              "      <td>False</td>\n",
              "    </tr>\n",
              "    <tr>\n",
              "      <th>6</th>\n",
              "      <td>7</td>\n",
              "      <td>20</td>\n",
              "      <td>75.000000</td>\n",
              "      <td>10084</td>\n",
              "      <td>3</td>\n",
              "      <td>8</td>\n",
              "      <td>5</td>\n",
              "      <td>2004</td>\n",
              "      <td>2005</td>\n",
              "      <td>186.0</td>\n",
              "      <td>...</td>\n",
              "      <td>False</td>\n",
              "      <td>False</td>\n",
              "      <td>False</td>\n",
              "      <td>False</td>\n",
              "      <td>True</td>\n",
              "      <td>False</td>\n",
              "      <td>False</td>\n",
              "      <td>False</td>\n",
              "      <td>True</td>\n",
              "      <td>False</td>\n",
              "    </tr>\n",
              "    <tr>\n",
              "      <th>7</th>\n",
              "      <td>8</td>\n",
              "      <td>60</td>\n",
              "      <td>69.305795</td>\n",
              "      <td>10382</td>\n",
              "      <td>3</td>\n",
              "      <td>7</td>\n",
              "      <td>6</td>\n",
              "      <td>1973</td>\n",
              "      <td>1973</td>\n",
              "      <td>240.0</td>\n",
              "      <td>...</td>\n",
              "      <td>False</td>\n",
              "      <td>False</td>\n",
              "      <td>False</td>\n",
              "      <td>False</td>\n",
              "      <td>True</td>\n",
              "      <td>False</td>\n",
              "      <td>False</td>\n",
              "      <td>False</td>\n",
              "      <td>True</td>\n",
              "      <td>False</td>\n",
              "    </tr>\n",
              "    <tr>\n",
              "      <th>8</th>\n",
              "      <td>9</td>\n",
              "      <td>50</td>\n",
              "      <td>51.000000</td>\n",
              "      <td>6120</td>\n",
              "      <td>3</td>\n",
              "      <td>7</td>\n",
              "      <td>5</td>\n",
              "      <td>1931</td>\n",
              "      <td>1950</td>\n",
              "      <td>0.0</td>\n",
              "      <td>...</td>\n",
              "      <td>False</td>\n",
              "      <td>False</td>\n",
              "      <td>False</td>\n",
              "      <td>False</td>\n",
              "      <td>True</td>\n",
              "      <td>False</td>\n",
              "      <td>False</td>\n",
              "      <td>False</td>\n",
              "      <td>False</td>\n",
              "      <td>False</td>\n",
              "    </tr>\n",
              "    <tr>\n",
              "      <th>9</th>\n",
              "      <td>10</td>\n",
              "      <td>190</td>\n",
              "      <td>50.000000</td>\n",
              "      <td>7420</td>\n",
              "      <td>3</td>\n",
              "      <td>5</td>\n",
              "      <td>6</td>\n",
              "      <td>1939</td>\n",
              "      <td>1950</td>\n",
              "      <td>0.0</td>\n",
              "      <td>...</td>\n",
              "      <td>False</td>\n",
              "      <td>False</td>\n",
              "      <td>False</td>\n",
              "      <td>False</td>\n",
              "      <td>True</td>\n",
              "      <td>False</td>\n",
              "      <td>False</td>\n",
              "      <td>False</td>\n",
              "      <td>True</td>\n",
              "      <td>False</td>\n",
              "    </tr>\n",
              "  </tbody>\n",
              "</table>\n",
              "<p>10 rows × 201 columns</p>\n",
              "</div>\n",
              "    <div class=\"colab-df-buttons\">\n",
              "\n",
              "  <div class=\"colab-df-container\">\n",
              "    <button class=\"colab-df-convert\" onclick=\"convertToInteractive('df-82bd1be1-1574-4c28-a11a-7af34ea941bc')\"\n",
              "            title=\"Convert this dataframe to an interactive table.\"\n",
              "            style=\"display:none;\">\n",
              "\n",
              "  <svg xmlns=\"http://www.w3.org/2000/svg\" height=\"24px\" viewBox=\"0 -960 960 960\">\n",
              "    <path d=\"M120-120v-720h720v720H120Zm60-500h600v-160H180v160Zm220 220h160v-160H400v160Zm0 220h160v-160H400v160ZM180-400h160v-160H180v160Zm440 0h160v-160H620v160ZM180-180h160v-160H180v160Zm440 0h160v-160H620v160Z\"/>\n",
              "  </svg>\n",
              "    </button>\n",
              "\n",
              "  <style>\n",
              "    .colab-df-container {\n",
              "      display:flex;\n",
              "      gap: 12px;\n",
              "    }\n",
              "\n",
              "    .colab-df-convert {\n",
              "      background-color: #E8F0FE;\n",
              "      border: none;\n",
              "      border-radius: 50%;\n",
              "      cursor: pointer;\n",
              "      display: none;\n",
              "      fill: #1967D2;\n",
              "      height: 32px;\n",
              "      padding: 0 0 0 0;\n",
              "      width: 32px;\n",
              "    }\n",
              "\n",
              "    .colab-df-convert:hover {\n",
              "      background-color: #E2EBFA;\n",
              "      box-shadow: 0px 1px 2px rgba(60, 64, 67, 0.3), 0px 1px 3px 1px rgba(60, 64, 67, 0.15);\n",
              "      fill: #174EA6;\n",
              "    }\n",
              "\n",
              "    .colab-df-buttons div {\n",
              "      margin-bottom: 4px;\n",
              "    }\n",
              "\n",
              "    [theme=dark] .colab-df-convert {\n",
              "      background-color: #3B4455;\n",
              "      fill: #D2E3FC;\n",
              "    }\n",
              "\n",
              "    [theme=dark] .colab-df-convert:hover {\n",
              "      background-color: #434B5C;\n",
              "      box-shadow: 0px 1px 3px 1px rgba(0, 0, 0, 0.15);\n",
              "      filter: drop-shadow(0px 1px 2px rgba(0, 0, 0, 0.3));\n",
              "      fill: #FFFFFF;\n",
              "    }\n",
              "  </style>\n",
              "\n",
              "    <script>\n",
              "      const buttonEl =\n",
              "        document.querySelector('#df-82bd1be1-1574-4c28-a11a-7af34ea941bc button.colab-df-convert');\n",
              "      buttonEl.style.display =\n",
              "        google.colab.kernel.accessAllowed ? 'block' : 'none';\n",
              "\n",
              "      async function convertToInteractive(key) {\n",
              "        const element = document.querySelector('#df-82bd1be1-1574-4c28-a11a-7af34ea941bc');\n",
              "        const dataTable =\n",
              "          await google.colab.kernel.invokeFunction('convertToInteractive',\n",
              "                                                    [key], {});\n",
              "        if (!dataTable) return;\n",
              "\n",
              "        const docLinkHtml = 'Like what you see? Visit the ' +\n",
              "          '<a target=\"_blank\" href=https://colab.research.google.com/notebooks/data_table.ipynb>data table notebook</a>'\n",
              "          + ' to learn more about interactive tables.';\n",
              "        element.innerHTML = '';\n",
              "        dataTable['output_type'] = 'display_data';\n",
              "        await google.colab.output.renderOutput(dataTable, element);\n",
              "        const docLink = document.createElement('div');\n",
              "        docLink.innerHTML = docLinkHtml;\n",
              "        element.appendChild(docLink);\n",
              "      }\n",
              "    </script>\n",
              "  </div>\n",
              "\n",
              "\n",
              "<div id=\"df-2758dac7-690f-4550-b1ec-835393e9666d\">\n",
              "  <button class=\"colab-df-quickchart\" onclick=\"quickchart('df-2758dac7-690f-4550-b1ec-835393e9666d')\"\n",
              "            title=\"Suggest charts\"\n",
              "            style=\"display:none;\">\n",
              "\n",
              "<svg xmlns=\"http://www.w3.org/2000/svg\" height=\"24px\"viewBox=\"0 0 24 24\"\n",
              "     width=\"24px\">\n",
              "    <g>\n",
              "        <path d=\"M19 3H5c-1.1 0-2 .9-2 2v14c0 1.1.9 2 2 2h14c1.1 0 2-.9 2-2V5c0-1.1-.9-2-2-2zM9 17H7v-7h2v7zm4 0h-2V7h2v10zm4 0h-2v-4h2v4z\"/>\n",
              "    </g>\n",
              "</svg>\n",
              "  </button>\n",
              "\n",
              "<style>\n",
              "  .colab-df-quickchart {\n",
              "      --bg-color: #E8F0FE;\n",
              "      --fill-color: #1967D2;\n",
              "      --hover-bg-color: #E2EBFA;\n",
              "      --hover-fill-color: #174EA6;\n",
              "      --disabled-fill-color: #AAA;\n",
              "      --disabled-bg-color: #DDD;\n",
              "  }\n",
              "\n",
              "  [theme=dark] .colab-df-quickchart {\n",
              "      --bg-color: #3B4455;\n",
              "      --fill-color: #D2E3FC;\n",
              "      --hover-bg-color: #434B5C;\n",
              "      --hover-fill-color: #FFFFFF;\n",
              "      --disabled-bg-color: #3B4455;\n",
              "      --disabled-fill-color: #666;\n",
              "  }\n",
              "\n",
              "  .colab-df-quickchart {\n",
              "    background-color: var(--bg-color);\n",
              "    border: none;\n",
              "    border-radius: 50%;\n",
              "    cursor: pointer;\n",
              "    display: none;\n",
              "    fill: var(--fill-color);\n",
              "    height: 32px;\n",
              "    padding: 0;\n",
              "    width: 32px;\n",
              "  }\n",
              "\n",
              "  .colab-df-quickchart:hover {\n",
              "    background-color: var(--hover-bg-color);\n",
              "    box-shadow: 0 1px 2px rgba(60, 64, 67, 0.3), 0 1px 3px 1px rgba(60, 64, 67, 0.15);\n",
              "    fill: var(--button-hover-fill-color);\n",
              "  }\n",
              "\n",
              "  .colab-df-quickchart-complete:disabled,\n",
              "  .colab-df-quickchart-complete:disabled:hover {\n",
              "    background-color: var(--disabled-bg-color);\n",
              "    fill: var(--disabled-fill-color);\n",
              "    box-shadow: none;\n",
              "  }\n",
              "\n",
              "  .colab-df-spinner {\n",
              "    border: 2px solid var(--fill-color);\n",
              "    border-color: transparent;\n",
              "    border-bottom-color: var(--fill-color);\n",
              "    animation:\n",
              "      spin 1s steps(1) infinite;\n",
              "  }\n",
              "\n",
              "  @keyframes spin {\n",
              "    0% {\n",
              "      border-color: transparent;\n",
              "      border-bottom-color: var(--fill-color);\n",
              "      border-left-color: var(--fill-color);\n",
              "    }\n",
              "    20% {\n",
              "      border-color: transparent;\n",
              "      border-left-color: var(--fill-color);\n",
              "      border-top-color: var(--fill-color);\n",
              "    }\n",
              "    30% {\n",
              "      border-color: transparent;\n",
              "      border-left-color: var(--fill-color);\n",
              "      border-top-color: var(--fill-color);\n",
              "      border-right-color: var(--fill-color);\n",
              "    }\n",
              "    40% {\n",
              "      border-color: transparent;\n",
              "      border-right-color: var(--fill-color);\n",
              "      border-top-color: var(--fill-color);\n",
              "    }\n",
              "    60% {\n",
              "      border-color: transparent;\n",
              "      border-right-color: var(--fill-color);\n",
              "    }\n",
              "    80% {\n",
              "      border-color: transparent;\n",
              "      border-right-color: var(--fill-color);\n",
              "      border-bottom-color: var(--fill-color);\n",
              "    }\n",
              "    90% {\n",
              "      border-color: transparent;\n",
              "      border-bottom-color: var(--fill-color);\n",
              "    }\n",
              "  }\n",
              "</style>\n",
              "\n",
              "  <script>\n",
              "    async function quickchart(key) {\n",
              "      const quickchartButtonEl =\n",
              "        document.querySelector('#' + key + ' button');\n",
              "      quickchartButtonEl.disabled = true;  // To prevent multiple clicks.\n",
              "      quickchartButtonEl.classList.add('colab-df-spinner');\n",
              "      try {\n",
              "        const charts = await google.colab.kernel.invokeFunction(\n",
              "            'suggestCharts', [key], {});\n",
              "      } catch (error) {\n",
              "        console.error('Error during call to suggestCharts:', error);\n",
              "      }\n",
              "      quickchartButtonEl.classList.remove('colab-df-spinner');\n",
              "      quickchartButtonEl.classList.add('colab-df-quickchart-complete');\n",
              "    }\n",
              "    (() => {\n",
              "      let quickchartButtonEl =\n",
              "        document.querySelector('#df-2758dac7-690f-4550-b1ec-835393e9666d button');\n",
              "      quickchartButtonEl.style.display =\n",
              "        google.colab.kernel.accessAllowed ? 'block' : 'none';\n",
              "    })();\n",
              "  </script>\n",
              "</div>\n",
              "\n",
              "    </div>\n",
              "  </div>\n"
            ],
            "application/vnd.google.colaboratory.intrinsic+json": {
              "type": "dataframe",
              "variable_name": "d_encod"
            }
          },
          "metadata": {},
          "execution_count": 68
        }
      ]
    },
    {
      "cell_type": "code",
      "source": [
        "d_encod['HasPool'] = np.where(d_encod['PoolArea'] > 0, 1, 0)"
      ],
      "metadata": {
        "id": "DW97KPP68X0W"
      },
      "execution_count": 69,
      "outputs": []
    },
    {
      "cell_type": "code",
      "source": [
        "d_encod['PoolArea'].head(1424)"
      ],
      "metadata": {
        "colab": {
          "base_uri": "https://localhost:8080/",
          "height": 458
        },
        "id": "qnBkuqxu81NU",
        "outputId": "fd6e0fcd-9327-4091-bd82-a7d9d0794fcd"
      },
      "execution_count": 70,
      "outputs": [
        {
          "output_type": "execute_result",
          "data": {
            "text/plain": [
              "0         0\n",
              "1         0\n",
              "2         0\n",
              "3         0\n",
              "4         0\n",
              "       ... \n",
              "1419      0\n",
              "1420      0\n",
              "1421      0\n",
              "1422      0\n",
              "1423    738\n",
              "Name: PoolArea, Length: 1424, dtype: int64"
            ],
            "text/html": [
              "<div>\n",
              "<style scoped>\n",
              "    .dataframe tbody tr th:only-of-type {\n",
              "        vertical-align: middle;\n",
              "    }\n",
              "\n",
              "    .dataframe tbody tr th {\n",
              "        vertical-align: top;\n",
              "    }\n",
              "\n",
              "    .dataframe thead th {\n",
              "        text-align: right;\n",
              "    }\n",
              "</style>\n",
              "<table border=\"1\" class=\"dataframe\">\n",
              "  <thead>\n",
              "    <tr style=\"text-align: right;\">\n",
              "      <th></th>\n",
              "      <th>PoolArea</th>\n",
              "    </tr>\n",
              "  </thead>\n",
              "  <tbody>\n",
              "    <tr>\n",
              "      <th>0</th>\n",
              "      <td>0</td>\n",
              "    </tr>\n",
              "    <tr>\n",
              "      <th>1</th>\n",
              "      <td>0</td>\n",
              "    </tr>\n",
              "    <tr>\n",
              "      <th>2</th>\n",
              "      <td>0</td>\n",
              "    </tr>\n",
              "    <tr>\n",
              "      <th>3</th>\n",
              "      <td>0</td>\n",
              "    </tr>\n",
              "    <tr>\n",
              "      <th>4</th>\n",
              "      <td>0</td>\n",
              "    </tr>\n",
              "    <tr>\n",
              "      <th>...</th>\n",
              "      <td>...</td>\n",
              "    </tr>\n",
              "    <tr>\n",
              "      <th>1419</th>\n",
              "      <td>0</td>\n",
              "    </tr>\n",
              "    <tr>\n",
              "      <th>1420</th>\n",
              "      <td>0</td>\n",
              "    </tr>\n",
              "    <tr>\n",
              "      <th>1421</th>\n",
              "      <td>0</td>\n",
              "    </tr>\n",
              "    <tr>\n",
              "      <th>1422</th>\n",
              "      <td>0</td>\n",
              "    </tr>\n",
              "    <tr>\n",
              "      <th>1423</th>\n",
              "      <td>738</td>\n",
              "    </tr>\n",
              "  </tbody>\n",
              "</table>\n",
              "<p>1424 rows × 1 columns</p>\n",
              "</div><br><label><b>dtype:</b> int64</label>"
            ]
          },
          "metadata": {},
          "execution_count": 70
        }
      ]
    },
    {
      "cell_type": "code",
      "source": [
        "d_encod['HasPool'].head(1424)"
      ],
      "metadata": {
        "colab": {
          "base_uri": "https://localhost:8080/",
          "height": 458
        },
        "id": "7vNxhr3a8qPy",
        "outputId": "48ca2b80-9323-4a57-b1fe-3ab46f98b0ff"
      },
      "execution_count": 71,
      "outputs": [
        {
          "output_type": "execute_result",
          "data": {
            "text/plain": [
              "0       0\n",
              "1       0\n",
              "2       0\n",
              "3       0\n",
              "4       0\n",
              "       ..\n",
              "1419    0\n",
              "1420    0\n",
              "1421    0\n",
              "1422    0\n",
              "1423    1\n",
              "Name: HasPool, Length: 1424, dtype: int64"
            ],
            "text/html": [
              "<div>\n",
              "<style scoped>\n",
              "    .dataframe tbody tr th:only-of-type {\n",
              "        vertical-align: middle;\n",
              "    }\n",
              "\n",
              "    .dataframe tbody tr th {\n",
              "        vertical-align: top;\n",
              "    }\n",
              "\n",
              "    .dataframe thead th {\n",
              "        text-align: right;\n",
              "    }\n",
              "</style>\n",
              "<table border=\"1\" class=\"dataframe\">\n",
              "  <thead>\n",
              "    <tr style=\"text-align: right;\">\n",
              "      <th></th>\n",
              "      <th>HasPool</th>\n",
              "    </tr>\n",
              "  </thead>\n",
              "  <tbody>\n",
              "    <tr>\n",
              "      <th>0</th>\n",
              "      <td>0</td>\n",
              "    </tr>\n",
              "    <tr>\n",
              "      <th>1</th>\n",
              "      <td>0</td>\n",
              "    </tr>\n",
              "    <tr>\n",
              "      <th>2</th>\n",
              "      <td>0</td>\n",
              "    </tr>\n",
              "    <tr>\n",
              "      <th>3</th>\n",
              "      <td>0</td>\n",
              "    </tr>\n",
              "    <tr>\n",
              "      <th>4</th>\n",
              "      <td>0</td>\n",
              "    </tr>\n",
              "    <tr>\n",
              "      <th>...</th>\n",
              "      <td>...</td>\n",
              "    </tr>\n",
              "    <tr>\n",
              "      <th>1419</th>\n",
              "      <td>0</td>\n",
              "    </tr>\n",
              "    <tr>\n",
              "      <th>1420</th>\n",
              "      <td>0</td>\n",
              "    </tr>\n",
              "    <tr>\n",
              "      <th>1421</th>\n",
              "      <td>0</td>\n",
              "    </tr>\n",
              "    <tr>\n",
              "      <th>1422</th>\n",
              "      <td>0</td>\n",
              "    </tr>\n",
              "    <tr>\n",
              "      <th>1423</th>\n",
              "      <td>1</td>\n",
              "    </tr>\n",
              "  </tbody>\n",
              "</table>\n",
              "<p>1424 rows × 1 columns</p>\n",
              "</div><br><label><b>dtype:</b> int64</label>"
            ]
          },
          "metadata": {},
          "execution_count": 71
        }
      ]
    },
    {
      "cell_type": "code",
      "source": [
        "d_encod['Age'] = d_encod['YrSold'] - d_encod['YearBuilt']"
      ],
      "metadata": {
        "id": "XLCagNEn9iOY"
      },
      "execution_count": 72,
      "outputs": []
    },
    {
      "cell_type": "code",
      "source": [
        "d_encod['RemodelAge'] = d_encod['YrSold'] - d_encod['YearRemodAdd']"
      ],
      "metadata": {
        "id": "HFjtj_6g_ysm"
      },
      "execution_count": 73,
      "outputs": []
    },
    {
      "cell_type": "code",
      "source": [
        "d_encod['IsRemodeled'] = np.where(d_encod['YearBuilt'] != d_encod['YearRemodAdd'], 1, 0)"
      ],
      "metadata": {
        "id": "8Ez6JaFGAGy-"
      },
      "execution_count": 74,
      "outputs": []
    },
    {
      "cell_type": "code",
      "source": [
        "d_encod['TotalLivingArea'] = d_encod['GrLivArea'] + d_encod['TotalBsmtSF']"
      ],
      "metadata": {
        "id": "6o48M9PSBVcI"
      },
      "execution_count": 75,
      "outputs": []
    },
    {
      "cell_type": "code",
      "source": [
        "d_encod['HasFireplace'] = np.where(d_encod['Fireplaces'] > 0, 1, 0)"
      ],
      "metadata": {
        "id": "tdUxKGdfCdlD"
      },
      "execution_count": 76,
      "outputs": []
    },
    {
      "cell_type": "code",
      "source": [
        "d_encod['HasGarage'] = np.where(d_encod['GarageArea'] > 0, 1, 0)"
      ],
      "metadata": {
        "id": "fDf1g5ZIChvf"
      },
      "execution_count": 77,
      "outputs": []
    },
    {
      "cell_type": "code",
      "source": [
        "d_encod['TotalSF'] = d_encod['TotalBsmtSF'] + d_encod['1stFlrSF'] + d_encod['2ndFlrSF']"
      ],
      "metadata": {
        "id": "J-N2oPqfDttm"
      },
      "execution_count": 78,
      "outputs": []
    },
    {
      "cell_type": "code",
      "source": [
        "d_encod.select_dtypes(include='object').columns.tolist()"
      ],
      "metadata": {
        "colab": {
          "base_uri": "https://localhost:8080/"
        },
        "id": "9-b16W5Ubn3c",
        "outputId": "64344c04-88cb-49ba-8972-eff9ad49c103"
      },
      "execution_count": 79,
      "outputs": [
        {
          "output_type": "execute_result",
          "data": {
            "text/plain": [
              "[]"
            ]
          },
          "metadata": {},
          "execution_count": 79
        }
      ]
    },
    {
      "cell_type": "code",
      "source": [
        "d_encod.shape"
      ],
      "metadata": {
        "colab": {
          "base_uri": "https://localhost:8080/"
        },
        "id": "c4LkxheGbpQq",
        "outputId": "eb8a135f-c8fe-47cb-8d89-51593a96a8f2"
      },
      "execution_count": 80,
      "outputs": [
        {
          "output_type": "execute_result",
          "data": {
            "text/plain": [
              "(2919, 209)"
            ]
          },
          "metadata": {},
          "execution_count": 80
        }
      ]
    },
    {
      "cell_type": "code",
      "source": [
        "d_encod.info()"
      ],
      "metadata": {
        "colab": {
          "base_uri": "https://localhost:8080/"
        },
        "id": "dDejIZm0br_i",
        "outputId": "8bf49e15-944e-462f-e55c-caab78277da8"
      },
      "execution_count": 81,
      "outputs": [
        {
          "output_type": "stream",
          "name": "stdout",
          "text": [
            "<class 'pandas.core.frame.DataFrame'>\n",
            "Index: 2919 entries, 0 to 1458\n",
            "Columns: 209 entries, Id to TotalSF\n",
            "dtypes: bool(148), float64(13), int64(32), int8(16)\n",
            "memory usage: 1.5 MB\n"
          ]
        }
      ]
    },
    {
      "cell_type": "code",
      "source": [
        "d_train.shape[0]"
      ],
      "metadata": {
        "colab": {
          "base_uri": "https://localhost:8080/"
        },
        "id": "ZMa9vt_Eb1Oj",
        "outputId": "a5605991-c113-47a1-a589-e47e738a2095"
      },
      "execution_count": 82,
      "outputs": [
        {
          "output_type": "execute_result",
          "data": {
            "text/plain": [
              "1460"
            ]
          },
          "metadata": {},
          "execution_count": 82
        }
      ]
    },
    {
      "cell_type": "code",
      "source": [
        "d_encod.shape[0]"
      ],
      "metadata": {
        "colab": {
          "base_uri": "https://localhost:8080/"
        },
        "id": "flnOA4aachGe",
        "outputId": "22399c19-4438-4c16-df65-c66f4202220c"
      },
      "execution_count": 83,
      "outputs": [
        {
          "output_type": "execute_result",
          "data": {
            "text/plain": [
              "2919"
            ]
          },
          "metadata": {},
          "execution_count": 83
        }
      ]
    },
    {
      "cell_type": "code",
      "source": [
        "len_train=d_train.shape[0]\n",
        "len_train"
      ],
      "metadata": {
        "colab": {
          "base_uri": "https://localhost:8080/"
        },
        "id": "kXPyQX9cejCO",
        "outputId": "249a78a6-f923-49e1-f198-25153bb1e591"
      },
      "execution_count": 84,
      "outputs": [
        {
          "output_type": "execute_result",
          "data": {
            "text/plain": [
              "1460"
            ]
          },
          "metadata": {},
          "execution_count": 84
        }
      ]
    },
    {
      "cell_type": "code",
      "source": [
        "x_train=d_encod[:len_train].drop(\"SalePrice\",axis=1)\n",
        "#y_train=d_encod[:len_train].SalePrice\n",
        "y_train=d_encod[\"SalePrice\"][:len_train]\n",
        "x_test=d_encod[len_train:].drop(\"SalePrice\",axis=1)\n",
        "print(x_train.shape)\n",
        "print(y_train.shape)\n",
        "print(x_test.shape)"
      ],
      "metadata": {
        "colab": {
          "base_uri": "https://localhost:8080/"
        },
        "id": "YuMXOhKEco9I",
        "outputId": "0e7d37b0-7fc1-4d9a-970a-51b446f5c0cf"
      },
      "execution_count": 85,
      "outputs": [
        {
          "output_type": "stream",
          "name": "stdout",
          "text": [
            "(1460, 208)\n",
            "(1460,)\n",
            "(1459, 208)\n"
          ]
        }
      ]
    },
    {
      "cell_type": "markdown",
      "source": [
        "# **feature scaling**"
      ],
      "metadata": {
        "id": "KvoauXBVh5qR"
      }
    },
    {
      "cell_type": "code",
      "source": [
        "from sklearn.preprocessing import StandardScaler"
      ],
      "metadata": {
        "id": "UOFWiKuFfCSq"
      },
      "execution_count": 86,
      "outputs": []
    },
    {
      "cell_type": "code",
      "source": [
        "sc=StandardScaler()\n",
        "sc.fit(x_train)\n",
        "x_train=sc.transform(x_train)\n",
        "x_test1=sc.transform(x_test)"
      ],
      "metadata": {
        "id": "1gwxYpLsfnlG"
      },
      "execution_count": 87,
      "outputs": []
    },
    {
      "cell_type": "code",
      "source": [
        "x_train"
      ],
      "metadata": {
        "colab": {
          "base_uri": "https://localhost:8080/"
        },
        "id": "DerwkYDcf7qs",
        "outputId": "d4fd4d03-a290-419b-805e-10521cce93c9"
      },
      "execution_count": 88,
      "outputs": [
        {
          "output_type": "execute_result",
          "data": {
            "text/plain": [
              "array([[-1.73086488e+00,  7.33749635e-02, -2.23357059e-01, ...,\n",
              "        -1.05638157e+00,  2.42359683e-01, -1.27658638e-03],\n",
              "       [-1.72849220e+00, -8.72562756e-01,  4.57894009e-01, ...,\n",
              "         9.46627644e-01,  2.42359683e-01, -5.24067478e-02],\n",
              "       [-1.72611953e+00,  7.33749635e-02, -8.71068454e-02, ...,\n",
              "         9.46627644e-01,  2.42359683e-01,  1.69157285e-01],\n",
              "       ...,\n",
              "       [ 1.72611953e+00,  3.09859393e-01, -1.77940321e-01, ...,\n",
              "         9.46627644e-01,  2.42359683e-01,  1.12602173e+00],\n",
              "       [ 1.72849220e+00, -8.72562756e-01, -8.71068454e-02, ...,\n",
              "        -1.05638157e+00,  2.42359683e-01, -5.00404352e-01],\n",
              "       [ 1.73086488e+00, -8.72562756e-01,  2.30810320e-01, ...,\n",
              "        -1.05638157e+00,  2.42359683e-01, -6.70153653e-02]])"
            ]
          },
          "metadata": {},
          "execution_count": 88
        }
      ]
    },
    {
      "cell_type": "code",
      "source": [
        "x_train[:3,:]"
      ],
      "metadata": {
        "colab": {
          "base_uri": "https://localhost:8080/"
        },
        "id": "WPZCF4WIgBdO",
        "outputId": "f2e3aa0f-fb34-4c87-9ed7-4d880d5b4cdc"
      },
      "execution_count": 89,
      "outputs": [
        {
          "output_type": "execute_result",
          "data": {
            "text/plain": [
              "array([[-1.73086488e+00,  7.33749635e-02, -2.23357059e-01,\n",
              "        -2.07141708e-01,  2.61801635e-02,  6.51479243e-01,\n",
              "        -5.17199807e-01,  1.05099379e+00,  8.78668088e-01,\n",
              "         5.14103891e-01,  1.05230219e+00, -2.38112361e-01,\n",
              "         6.41644955e-01, -3.85767345e-02, -6.31676057e-01,\n",
              "         1.17335142e+00, -3.14282464e-01, -2.88652831e-01,\n",
              "        -9.44590606e-01, -4.59302541e-01,  0.00000000e+00,\n",
              "        -7.93433793e-01,  1.16185159e+00, -1.20241724e-01,\n",
              "         3.70333439e-01,  1.10781015e+00, -2.41061036e-01,\n",
              "         7.89740522e-01,  1.22758538e+00,  1.63779117e-01,\n",
              "        -2.11453581e-01,  7.35994339e-01,  9.12209771e-01,\n",
              "         2.37043546e-01, -9.51226488e-01,  4.71312549e-01,\n",
              "         9.30591994e-01,  2.81886753e-01,  3.11724644e-01,\n",
              "         3.51000321e-01,  9.63966063e-02,  1.05926345e-01,\n",
              "         2.89744763e-01, -7.52175838e-01,  2.16503161e-01,\n",
              "        -3.59324900e-01, -1.16339286e-01, -2.70208354e-01,\n",
              "        -6.86917475e-02, -8.76878115e-02, -1.59911110e+00,\n",
              "         1.38777489e-01, -2.15858709e-01, -1.05263158e-01,\n",
              "         5.18133387e-01, -4.18955069e-01,  6.42382087e-02,\n",
              "        -1.69981137e-01, -8.30454799e-02,  7.60511919e-01,\n",
              "        -1.88310894e-01, -1.58999682e-01,  3.37125643e-01,\n",
              "        -2.62324333e-01, -1.82380267e-01, -5.24142418e-02,\n",
              "         6.22762153e-01, -2.15858709e-01, -9.47845190e-02,\n",
              "        -3.70370370e-02, -1.05263158e-01, -2.03394868e-01,\n",
              "        -1.39832302e-01,  2.95522137e+00, -1.90252158e-01,\n",
              "        -2.71163072e-01, -2.39175509e-01, -1.61249513e-01,\n",
              "        -1.08540369e-01, -1.86352204e-01, -4.26832795e-01,\n",
              "        -7.87567069e-02, -2.29415734e-01, -1.69981137e-01,\n",
              "        -2.35957764e-01, -2.89637923e-01, -1.31990919e-01,\n",
              "        -2.31065041e-01, -2.05213978e-01, -2.50181884e-01,\n",
              "        -1.31990919e-01, -1.63471482e-01, -8.71288837e-02,\n",
              "        -2.42359683e-01,  3.98409536e-01, -7.42269619e-02,\n",
              "        -1.14827209e-01, -8.71288837e-02, -1.34651780e-01,\n",
              "        -3.70370370e-02, -5.86210382e-02, -6.42382087e-02,\n",
              "         1.01885342e-01, -2.61801635e-02, -3.70370370e-02,\n",
              "        -2.61801635e-02, -2.61801635e-02, -3.70370370e-02,\n",
              "        -1.47287107e-01, -1.92176529e-01, -1.74200462e-01,\n",
              "        -2.91024730e-01, -9.83965500e-02, -9.94535478e-01,\n",
              "        -7.42269619e-02, -8.71288837e-02,  1.51026451e+00,\n",
              "        -1.61249513e-01, -2.15858709e-01,  5.28752604e-01,\n",
              "        -8.71288837e-02, -4.93570243e-01, -6.94090680e-02,\n",
              "        -3.70370370e-02,  1.34651780e-01, -2.61801635e-02,\n",
              "        -2.61801635e-02, -2.61801635e-02, -8.71288837e-02,\n",
              "        -5.86210382e-02, -6.42382087e-02, -2.61801635e-02,\n",
              "        -3.70370370e-02, -1.88310894e-01, -2.61801635e-02,\n",
              "        -2.08812292e-01, -4.23463678e-01, -2.61801635e-02,\n",
              "        -4.21211770e-01, -2.82633432e-01, -3.70370370e-02,\n",
              "        -1.31990919e-01,  1.35460380e+00, -4.05307688e-01,\n",
              "        -1.34651780e-01, -4.53764850e-02, -6.94090680e-02,\n",
              "        -1.31990919e-01, -2.61801635e-02, -2.07019668e-01,\n",
              "        -4.06452348e-01, -8.30454799e-02, -4.14426832e-01,\n",
              "        -2.61801635e-02, -3.28236193e-01, -5.86210382e-02,\n",
              "        -1.34651780e-01,  1.37725284e+00, -3.94940287e-01,\n",
              "        -1.63471482e-01,  3.29514956e-01, -3.09993703e-01,\n",
              "        -8.76101866e-01,  1.12096779e+00, -1.29279124e-01,\n",
              "        -6.42382087e-02, -4.53764850e-02, -3.35864374e-01,\n",
              "         1.57886762e+00, -2.31065041e-01, -3.16585018e-01,\n",
              "        -6.85778422e-01,  1.49696238e-01, -1.11725838e-01,\n",
              "        -6.94090680e-02, -3.70370370e-02, -5.24142418e-02,\n",
              "         2.63812565e-01, -1.37264675e-01, -4.53764850e-02,\n",
              "        -2.61801635e-02,  3.07331700e-01,  7.31591469e-01,\n",
              "        -1.14827209e-01, -2.53258646e-01, -7.87567069e-02,\n",
              "        -6.00558920e-01, -5.24142418e-02, -3.70370370e-02,\n",
              "        -7.87567069e-02, -5.86210382e-02, -5.86210382e-02,\n",
              "        -3.01961698e-01, -4.53764850e-02,  3.90292627e-01,\n",
              "        -5.24142418e-02, -9.10345694e-02, -1.17851130e-01,\n",
              "         4.67651398e-01, -3.05995031e-01, -6.94090680e-02,\n",
              "        -1.04325937e+00, -8.69940995e-01, -9.54460457e-01,\n",
              "        -8.37242009e-03, -1.05638157e+00,  2.42359683e-01,\n",
              "        -1.27658638e-03],\n",
              "       [-1.72849220e+00, -8.72562756e-01,  4.57894009e-01,\n",
              "        -9.18863723e-02,  2.61801635e-02, -7.18361143e-02,\n",
              "         2.17962776e+00,  1.56733711e-01, -4.29576965e-01,\n",
              "        -5.70750134e-01, -6.89603931e-01, -2.38112361e-01,\n",
              "         6.41644955e-01, -3.85767345e-02,  2.25636270e+00,\n",
              "         6.90245646e-01, -3.14282464e-01, -2.88652831e-01,\n",
              "        -6.41227993e-01,  4.66464916e-01,  0.00000000e+00,\n",
              "         2.57140430e-01, -7.95163227e-01, -1.20241724e-01,\n",
              "        -4.82511915e-01, -8.19964365e-01,  3.94880935e+00,\n",
              "         7.89740522e-01, -7.61620672e-01,  1.63779117e-01,\n",
              "        -2.11453581e-01, -7.71090843e-01, -3.18683266e-01,\n",
              "         2.37043546e-01,  6.00494934e-01, -1.18679907e+00,\n",
              "        -1.60704641e-01,  2.81886753e-01,  3.11724644e-01,\n",
              "        -6.07310126e-02,  9.63966063e-02,  1.05926345e-01,\n",
              "         2.89744763e-01,  1.62619479e+00, -7.04483250e-01,\n",
              "        -3.59324900e-01, -1.16339286e-01, -2.70208354e-01,\n",
              "        -6.86917475e-02, -8.76878115e-02, -4.89110051e-01,\n",
              "        -6.14438622e-01, -2.15858709e-01, -1.05263158e-01,\n",
              "         5.18133387e-01, -4.18955069e-01,  6.42382087e-02,\n",
              "        -1.69981137e-01, -8.30454799e-02,  7.60511919e-01,\n",
              "        -1.88310894e-01, -1.58999682e-01,  3.37125643e-01,\n",
              "        -2.62324333e-01,  5.48304931e+00, -5.24142418e-02,\n",
              "        -1.60574947e+00, -2.15858709e-01, -9.47845190e-02,\n",
              "        -3.70370370e-02, -1.05263158e-01, -2.03394868e-01,\n",
              "        -1.39832302e-01, -3.38384126e-01, -1.90252158e-01,\n",
              "        -2.71163072e-01, -2.39175509e-01, -1.61249513e-01,\n",
              "        -1.08540369e-01, -1.86352204e-01, -4.26832795e-01,\n",
              "        -7.87567069e-02, -2.29415734e-01, -1.69981137e-01,\n",
              "        -2.35957764e-01, -2.89637923e-01, -1.31990919e-01,\n",
              "        -2.31065041e-01, -2.05213978e-01, -2.50181884e-01,\n",
              "        -1.31990919e-01, -1.63471482e-01,  1.14772502e+01,\n",
              "         4.12609881e+00, -2.50998008e+00, -7.42269619e-02,\n",
              "        -1.14827209e-01, -8.71288837e-02, -1.34651780e-01,\n",
              "        -3.70370370e-02, -5.86210382e-02, -6.42382087e-02,\n",
              "         1.01885342e-01, -2.61801635e-02, -3.70370370e-02,\n",
              "        -2.61801635e-02, -2.61801635e-02, -3.70370370e-02,\n",
              "        -1.47287107e-01, -1.92176529e-01, -1.74200462e-01,\n",
              "        -2.91024730e-01, -9.83965500e-02,  1.00549455e+00,\n",
              "        -7.42269619e-02, -8.71288837e-02, -6.62135670e-01,\n",
              "        -1.61249513e-01, -2.15858709e-01,  5.28752604e-01,\n",
              "        -8.71288837e-02, -4.93570243e-01, -6.94090680e-02,\n",
              "        -3.70370370e-02,  1.34651780e-01, -2.61801635e-02,\n",
              "        -2.61801635e-02, -2.61801635e-02, -8.71288837e-02,\n",
              "        -5.86210382e-02, -6.42382087e-02, -2.61801635e-02,\n",
              "        -3.70370370e-02, -1.88310894e-01, -2.61801635e-02,\n",
              "        -2.08812292e-01, -4.23463678e-01, -2.61801635e-02,\n",
              "         2.37410270e+00, -2.82633432e-01, -3.70370370e-02,\n",
              "        -1.31990919e-01, -7.38223235e-01, -4.05307688e-01,\n",
              "        -1.34651780e-01, -4.53764850e-02, -6.94090680e-02,\n",
              "        -1.31990919e-01, -2.61801635e-02, -2.07019668e-01,\n",
              "        -4.06452348e-01, -8.30454799e-02,  2.41297118e+00,\n",
              "        -2.61801635e-02, -3.28236193e-01, -5.86210382e-02,\n",
              "        -1.34651780e-01, -7.26083089e-01, -3.94940287e-01,\n",
              "        -1.63471482e-01,  3.29514956e-01, -3.09993703e-01,\n",
              "         1.14141978e+00, -8.92086295e-01, -1.29279124e-01,\n",
              "        -6.42382087e-02, -4.53764850e-02, -3.35864374e-01,\n",
              "        -6.33365322e-01, -2.31065041e-01, -3.16585018e-01,\n",
              "        -6.85778422e-01,  1.49696238e-01, -1.11725838e-01,\n",
              "        -6.94090680e-02, -3.70370370e-02, -5.24142418e-02,\n",
              "         2.63812565e-01, -1.37264675e-01, -4.53764850e-02,\n",
              "        -2.61801635e-02,  3.07331700e-01,  7.31591469e-01,\n",
              "        -1.14827209e-01, -2.53258646e-01, -7.87567069e-02,\n",
              "        -6.00558920e-01, -5.24142418e-02, -3.70370370e-02,\n",
              "        -7.87567069e-02, -5.86210382e-02, -5.86210382e-02,\n",
              "        -3.01961698e-01, -4.53764850e-02,  3.90292627e-01,\n",
              "        -5.24142418e-02, -9.10345694e-02, -1.17851130e-01,\n",
              "         4.67651398e-01, -3.05995031e-01, -6.94090680e-02,\n",
              "        -1.83465064e-01,  3.90140669e-01, -9.54460457e-01,\n",
              "        -5.93856157e-02,  9.46627644e-01,  2.42359683e-01,\n",
              "        -5.24067478e-02],\n",
              "       [-1.72611953e+00,  7.33749635e-02, -8.71068454e-02,\n",
              "         7.34799786e-02,  2.61801635e-02,  6.51479243e-01,\n",
              "        -5.17199807e-01,  9.84752302e-01,  8.30214568e-01,\n",
              "         3.25914928e-01,  1.05230219e+00, -2.38112361e-01,\n",
              "         6.41644955e-01, -3.85767345e-02,  3.31003529e-01,\n",
              "         1.17335142e+00, -3.14282464e-01, -2.88652831e-01,\n",
              "        -3.01642979e-01, -3.13368755e-01,  0.00000000e+00,\n",
              "        -6.27826034e-01,  1.18935062e+00, -1.20241724e-01,\n",
              "         5.15012562e-01,  1.10781015e+00, -2.41061036e-01,\n",
              "         7.89740522e-01,  1.22758538e+00,  1.63779117e-01,\n",
              "        -2.11453581e-01,  7.35994339e-01, -3.18683266e-01,\n",
              "         2.37043546e-01,  6.00494934e-01, -1.18679907e+00,\n",
              "         8.49755206e-01,  2.81886753e-01,  3.11724644e-01,\n",
              "         6.31726230e-01,  9.63966063e-02,  1.05926345e-01,\n",
              "         2.89744763e-01, -7.52175838e-01, -7.03614590e-02,\n",
              "        -3.59324900e-01, -1.16339286e-01, -2.70208354e-01,\n",
              "        -6.86917475e-02, -8.76878115e-02,  9.90891347e-01,\n",
              "         1.38777489e-01, -2.15858709e-01, -1.05263158e-01,\n",
              "         5.18133387e-01, -4.18955069e-01,  6.42382087e-02,\n",
              "        -1.69981137e-01, -8.30454799e-02, -1.31490378e+00,\n",
              "        -1.88310894e-01, -1.58999682e-01,  3.37125643e-01,\n",
              "        -2.62324333e-01, -1.82380267e-01, -5.24142418e-02,\n",
              "         6.22762153e-01, -2.15858709e-01, -9.47845190e-02,\n",
              "        -3.70370370e-02, -1.05263158e-01, -2.03394868e-01,\n",
              "        -1.39832302e-01,  2.95522137e+00, -1.90252158e-01,\n",
              "        -2.71163072e-01, -2.39175509e-01, -1.61249513e-01,\n",
              "        -1.08540369e-01, -1.86352204e-01, -4.26832795e-01,\n",
              "        -7.87567069e-02, -2.29415734e-01, -1.69981137e-01,\n",
              "        -2.35957764e-01, -2.89637923e-01, -1.31990919e-01,\n",
              "        -2.31065041e-01, -2.05213978e-01, -2.50181884e-01,\n",
              "        -1.31990919e-01, -1.63471482e-01, -8.71288837e-02,\n",
              "        -2.42359683e-01,  3.98409536e-01, -7.42269619e-02,\n",
              "        -1.14827209e-01, -8.71288837e-02, -1.34651780e-01,\n",
              "        -3.70370370e-02, -5.86210382e-02, -6.42382087e-02,\n",
              "         1.01885342e-01, -2.61801635e-02, -3.70370370e-02,\n",
              "        -2.61801635e-02, -2.61801635e-02, -3.70370370e-02,\n",
              "        -1.47287107e-01, -1.92176529e-01, -1.74200462e-01,\n",
              "        -2.91024730e-01, -9.83965500e-02, -9.94535478e-01,\n",
              "        -7.42269619e-02, -8.71288837e-02,  1.51026451e+00,\n",
              "        -1.61249513e-01, -2.15858709e-01,  5.28752604e-01,\n",
              "        -8.71288837e-02, -4.93570243e-01, -6.94090680e-02,\n",
              "        -3.70370370e-02,  1.34651780e-01, -2.61801635e-02,\n",
              "        -2.61801635e-02, -2.61801635e-02, -8.71288837e-02,\n",
              "        -5.86210382e-02, -6.42382087e-02, -2.61801635e-02,\n",
              "        -3.70370370e-02, -1.88310894e-01, -2.61801635e-02,\n",
              "        -2.08812292e-01, -4.23463678e-01, -2.61801635e-02,\n",
              "        -4.21211770e-01, -2.82633432e-01, -3.70370370e-02,\n",
              "        -1.31990919e-01,  1.35460380e+00, -4.05307688e-01,\n",
              "        -1.34651780e-01, -4.53764850e-02, -6.94090680e-02,\n",
              "        -1.31990919e-01, -2.61801635e-02, -2.07019668e-01,\n",
              "        -4.06452348e-01, -8.30454799e-02, -4.14426832e-01,\n",
              "        -2.61801635e-02, -3.28236193e-01, -5.86210382e-02,\n",
              "        -1.34651780e-01,  1.37725284e+00, -3.94940287e-01,\n",
              "        -1.63471482e-01,  3.29514956e-01, -3.09993703e-01,\n",
              "        -8.76101866e-01,  1.12096779e+00, -1.29279124e-01,\n",
              "        -6.42382087e-02, -4.53764850e-02, -3.35864374e-01,\n",
              "         1.57886762e+00, -2.31065041e-01, -3.16585018e-01,\n",
              "        -6.85778422e-01,  1.49696238e-01, -1.11725838e-01,\n",
              "        -6.94090680e-02, -3.70370370e-02, -5.24142418e-02,\n",
              "         2.63812565e-01, -1.37264675e-01, -4.53764850e-02,\n",
              "        -2.61801635e-02,  3.07331700e-01,  7.31591469e-01,\n",
              "        -1.14827209e-01, -2.53258646e-01, -7.87567069e-02,\n",
              "        -6.00558920e-01, -5.24142418e-02, -3.70370370e-02,\n",
              "        -7.87567069e-02, -5.86210382e-02, -5.86210382e-02,\n",
              "        -3.01961698e-01, -4.53764850e-02,  3.90292627e-01,\n",
              "        -5.24142418e-02, -9.10345694e-02, -1.17851130e-01,\n",
              "         4.67651398e-01, -3.05995031e-01, -6.94090680e-02,\n",
              "        -9.77121342e-01, -8.21476316e-01,  1.04771234e+00,\n",
              "         1.61671565e-01,  9.46627644e-01,  2.42359683e-01,\n",
              "         1.69157285e-01]])"
            ]
          },
          "metadata": {},
          "execution_count": 89
        }
      ]
    },
    {
      "cell_type": "code",
      "source": [
        "x_test"
      ],
      "metadata": {
        "colab": {
          "base_uri": "https://localhost:8080/",
          "height": 443
        },
        "id": "fOdG8dSMgOtg",
        "outputId": "1a6e0b6d-ed08-4891-c8ec-5fc1b8470789"
      },
      "execution_count": 90,
      "outputs": [
        {
          "output_type": "execute_result",
          "data": {
            "text/plain": [
              "        Id  MSSubClass  LotFrontage  LotArea  Utilities  OverallQual  \\\n",
              "0     1461          20         80.0    11622          3            5   \n",
              "1     1462          20         81.0    14267          3            6   \n",
              "2     1463          60         74.0    13830          3            5   \n",
              "3     1464          60         78.0     9978          3            6   \n",
              "4     1465         120         43.0     5005          3            8   \n",
              "...    ...         ...          ...      ...        ...          ...   \n",
              "1454  2915         160         21.0     1936          3            4   \n",
              "1455  2916         160         21.0     1894          3            4   \n",
              "1456  2917          20        160.0    20000          3            5   \n",
              "1457  2918          85         62.0    10441          3            5   \n",
              "1458  2919          60         74.0     9627          3            7   \n",
              "\n",
              "      OverallCond  YearBuilt  YearRemodAdd  MasVnrArea  ...  \\\n",
              "0               6       1961          1961         0.0  ...   \n",
              "1               6       1958          1958       108.0  ...   \n",
              "2               5       1997          1998         0.0  ...   \n",
              "3               6       1998          1998        20.0  ...   \n",
              "4               5       1992          1992         0.0  ...   \n",
              "...           ...        ...           ...         ...  ...   \n",
              "1454            7       1970          1970         0.0  ...   \n",
              "1455            5       1970          1970         0.0  ...   \n",
              "1456            7       1960          1996         0.0  ...   \n",
              "1457            5       1992          1992         0.0  ...   \n",
              "1458            5       1993          1994        94.0  ...   \n",
              "\n",
              "      SaleCondition_Normal  SaleCondition_Partial  HasPool  Age  RemodelAge  \\\n",
              "0                     True                  False        0   49          49   \n",
              "1                     True                  False        0   52          52   \n",
              "2                     True                  False        0   13          12   \n",
              "3                     True                  False        0   12          12   \n",
              "4                     True                  False        0   18          18   \n",
              "...                    ...                    ...      ...  ...         ...   \n",
              "1454                  True                  False        0   36          36   \n",
              "1455                 False                  False        0   36          36   \n",
              "1456                 False                  False        0   46          10   \n",
              "1457                  True                  False        0   14          14   \n",
              "1458                  True                  False        0   13          12   \n",
              "\n",
              "      IsRemodeled  TotalLivingArea  HasFireplace  HasGarage  TotalSF  \n",
              "0               0           1778.0             0          1   1778.0  \n",
              "1               0           2658.0             0          1   2658.0  \n",
              "2               1           2557.0             1          1   2557.0  \n",
              "3               0           2530.0             1          1   2530.0  \n",
              "4               0           2560.0             0          1   2560.0  \n",
              "...           ...              ...           ...        ...      ...  \n",
              "1454            0           1638.0             0          0   1638.0  \n",
              "1455            0           1638.0             0          1   1638.0  \n",
              "1456            1           2448.0             1          1   2448.0  \n",
              "1457            0           1882.0             0          0   1882.0  \n",
              "1458            1           2996.0             1          1   2996.0  \n",
              "\n",
              "[1459 rows x 208 columns]"
            ],
            "text/html": [
              "\n",
              "  <div id=\"df-9df184ca-f20f-40f6-afc9-0b1361066867\" class=\"colab-df-container\">\n",
              "    <div>\n",
              "<style scoped>\n",
              "    .dataframe tbody tr th:only-of-type {\n",
              "        vertical-align: middle;\n",
              "    }\n",
              "\n",
              "    .dataframe tbody tr th {\n",
              "        vertical-align: top;\n",
              "    }\n",
              "\n",
              "    .dataframe thead th {\n",
              "        text-align: right;\n",
              "    }\n",
              "</style>\n",
              "<table border=\"1\" class=\"dataframe\">\n",
              "  <thead>\n",
              "    <tr style=\"text-align: right;\">\n",
              "      <th></th>\n",
              "      <th>Id</th>\n",
              "      <th>MSSubClass</th>\n",
              "      <th>LotFrontage</th>\n",
              "      <th>LotArea</th>\n",
              "      <th>Utilities</th>\n",
              "      <th>OverallQual</th>\n",
              "      <th>OverallCond</th>\n",
              "      <th>YearBuilt</th>\n",
              "      <th>YearRemodAdd</th>\n",
              "      <th>MasVnrArea</th>\n",
              "      <th>...</th>\n",
              "      <th>SaleCondition_Normal</th>\n",
              "      <th>SaleCondition_Partial</th>\n",
              "      <th>HasPool</th>\n",
              "      <th>Age</th>\n",
              "      <th>RemodelAge</th>\n",
              "      <th>IsRemodeled</th>\n",
              "      <th>TotalLivingArea</th>\n",
              "      <th>HasFireplace</th>\n",
              "      <th>HasGarage</th>\n",
              "      <th>TotalSF</th>\n",
              "    </tr>\n",
              "  </thead>\n",
              "  <tbody>\n",
              "    <tr>\n",
              "      <th>0</th>\n",
              "      <td>1461</td>\n",
              "      <td>20</td>\n",
              "      <td>80.0</td>\n",
              "      <td>11622</td>\n",
              "      <td>3</td>\n",
              "      <td>5</td>\n",
              "      <td>6</td>\n",
              "      <td>1961</td>\n",
              "      <td>1961</td>\n",
              "      <td>0.0</td>\n",
              "      <td>...</td>\n",
              "      <td>True</td>\n",
              "      <td>False</td>\n",
              "      <td>0</td>\n",
              "      <td>49</td>\n",
              "      <td>49</td>\n",
              "      <td>0</td>\n",
              "      <td>1778.0</td>\n",
              "      <td>0</td>\n",
              "      <td>1</td>\n",
              "      <td>1778.0</td>\n",
              "    </tr>\n",
              "    <tr>\n",
              "      <th>1</th>\n",
              "      <td>1462</td>\n",
              "      <td>20</td>\n",
              "      <td>81.0</td>\n",
              "      <td>14267</td>\n",
              "      <td>3</td>\n",
              "      <td>6</td>\n",
              "      <td>6</td>\n",
              "      <td>1958</td>\n",
              "      <td>1958</td>\n",
              "      <td>108.0</td>\n",
              "      <td>...</td>\n",
              "      <td>True</td>\n",
              "      <td>False</td>\n",
              "      <td>0</td>\n",
              "      <td>52</td>\n",
              "      <td>52</td>\n",
              "      <td>0</td>\n",
              "      <td>2658.0</td>\n",
              "      <td>0</td>\n",
              "      <td>1</td>\n",
              "      <td>2658.0</td>\n",
              "    </tr>\n",
              "    <tr>\n",
              "      <th>2</th>\n",
              "      <td>1463</td>\n",
              "      <td>60</td>\n",
              "      <td>74.0</td>\n",
              "      <td>13830</td>\n",
              "      <td>3</td>\n",
              "      <td>5</td>\n",
              "      <td>5</td>\n",
              "      <td>1997</td>\n",
              "      <td>1998</td>\n",
              "      <td>0.0</td>\n",
              "      <td>...</td>\n",
              "      <td>True</td>\n",
              "      <td>False</td>\n",
              "      <td>0</td>\n",
              "      <td>13</td>\n",
              "      <td>12</td>\n",
              "      <td>1</td>\n",
              "      <td>2557.0</td>\n",
              "      <td>1</td>\n",
              "      <td>1</td>\n",
              "      <td>2557.0</td>\n",
              "    </tr>\n",
              "    <tr>\n",
              "      <th>3</th>\n",
              "      <td>1464</td>\n",
              "      <td>60</td>\n",
              "      <td>78.0</td>\n",
              "      <td>9978</td>\n",
              "      <td>3</td>\n",
              "      <td>6</td>\n",
              "      <td>6</td>\n",
              "      <td>1998</td>\n",
              "      <td>1998</td>\n",
              "      <td>20.0</td>\n",
              "      <td>...</td>\n",
              "      <td>True</td>\n",
              "      <td>False</td>\n",
              "      <td>0</td>\n",
              "      <td>12</td>\n",
              "      <td>12</td>\n",
              "      <td>0</td>\n",
              "      <td>2530.0</td>\n",
              "      <td>1</td>\n",
              "      <td>1</td>\n",
              "      <td>2530.0</td>\n",
              "    </tr>\n",
              "    <tr>\n",
              "      <th>4</th>\n",
              "      <td>1465</td>\n",
              "      <td>120</td>\n",
              "      <td>43.0</td>\n",
              "      <td>5005</td>\n",
              "      <td>3</td>\n",
              "      <td>8</td>\n",
              "      <td>5</td>\n",
              "      <td>1992</td>\n",
              "      <td>1992</td>\n",
              "      <td>0.0</td>\n",
              "      <td>...</td>\n",
              "      <td>True</td>\n",
              "      <td>False</td>\n",
              "      <td>0</td>\n",
              "      <td>18</td>\n",
              "      <td>18</td>\n",
              "      <td>0</td>\n",
              "      <td>2560.0</td>\n",
              "      <td>0</td>\n",
              "      <td>1</td>\n",
              "      <td>2560.0</td>\n",
              "    </tr>\n",
              "    <tr>\n",
              "      <th>...</th>\n",
              "      <td>...</td>\n",
              "      <td>...</td>\n",
              "      <td>...</td>\n",
              "      <td>...</td>\n",
              "      <td>...</td>\n",
              "      <td>...</td>\n",
              "      <td>...</td>\n",
              "      <td>...</td>\n",
              "      <td>...</td>\n",
              "      <td>...</td>\n",
              "      <td>...</td>\n",
              "      <td>...</td>\n",
              "      <td>...</td>\n",
              "      <td>...</td>\n",
              "      <td>...</td>\n",
              "      <td>...</td>\n",
              "      <td>...</td>\n",
              "      <td>...</td>\n",
              "      <td>...</td>\n",
              "      <td>...</td>\n",
              "      <td>...</td>\n",
              "    </tr>\n",
              "    <tr>\n",
              "      <th>1454</th>\n",
              "      <td>2915</td>\n",
              "      <td>160</td>\n",
              "      <td>21.0</td>\n",
              "      <td>1936</td>\n",
              "      <td>3</td>\n",
              "      <td>4</td>\n",
              "      <td>7</td>\n",
              "      <td>1970</td>\n",
              "      <td>1970</td>\n",
              "      <td>0.0</td>\n",
              "      <td>...</td>\n",
              "      <td>True</td>\n",
              "      <td>False</td>\n",
              "      <td>0</td>\n",
              "      <td>36</td>\n",
              "      <td>36</td>\n",
              "      <td>0</td>\n",
              "      <td>1638.0</td>\n",
              "      <td>0</td>\n",
              "      <td>0</td>\n",
              "      <td>1638.0</td>\n",
              "    </tr>\n",
              "    <tr>\n",
              "      <th>1455</th>\n",
              "      <td>2916</td>\n",
              "      <td>160</td>\n",
              "      <td>21.0</td>\n",
              "      <td>1894</td>\n",
              "      <td>3</td>\n",
              "      <td>4</td>\n",
              "      <td>5</td>\n",
              "      <td>1970</td>\n",
              "      <td>1970</td>\n",
              "      <td>0.0</td>\n",
              "      <td>...</td>\n",
              "      <td>False</td>\n",
              "      <td>False</td>\n",
              "      <td>0</td>\n",
              "      <td>36</td>\n",
              "      <td>36</td>\n",
              "      <td>0</td>\n",
              "      <td>1638.0</td>\n",
              "      <td>0</td>\n",
              "      <td>1</td>\n",
              "      <td>1638.0</td>\n",
              "    </tr>\n",
              "    <tr>\n",
              "      <th>1456</th>\n",
              "      <td>2917</td>\n",
              "      <td>20</td>\n",
              "      <td>160.0</td>\n",
              "      <td>20000</td>\n",
              "      <td>3</td>\n",
              "      <td>5</td>\n",
              "      <td>7</td>\n",
              "      <td>1960</td>\n",
              "      <td>1996</td>\n",
              "      <td>0.0</td>\n",
              "      <td>...</td>\n",
              "      <td>False</td>\n",
              "      <td>False</td>\n",
              "      <td>0</td>\n",
              "      <td>46</td>\n",
              "      <td>10</td>\n",
              "      <td>1</td>\n",
              "      <td>2448.0</td>\n",
              "      <td>1</td>\n",
              "      <td>1</td>\n",
              "      <td>2448.0</td>\n",
              "    </tr>\n",
              "    <tr>\n",
              "      <th>1457</th>\n",
              "      <td>2918</td>\n",
              "      <td>85</td>\n",
              "      <td>62.0</td>\n",
              "      <td>10441</td>\n",
              "      <td>3</td>\n",
              "      <td>5</td>\n",
              "      <td>5</td>\n",
              "      <td>1992</td>\n",
              "      <td>1992</td>\n",
              "      <td>0.0</td>\n",
              "      <td>...</td>\n",
              "      <td>True</td>\n",
              "      <td>False</td>\n",
              "      <td>0</td>\n",
              "      <td>14</td>\n",
              "      <td>14</td>\n",
              "      <td>0</td>\n",
              "      <td>1882.0</td>\n",
              "      <td>0</td>\n",
              "      <td>0</td>\n",
              "      <td>1882.0</td>\n",
              "    </tr>\n",
              "    <tr>\n",
              "      <th>1458</th>\n",
              "      <td>2919</td>\n",
              "      <td>60</td>\n",
              "      <td>74.0</td>\n",
              "      <td>9627</td>\n",
              "      <td>3</td>\n",
              "      <td>7</td>\n",
              "      <td>5</td>\n",
              "      <td>1993</td>\n",
              "      <td>1994</td>\n",
              "      <td>94.0</td>\n",
              "      <td>...</td>\n",
              "      <td>True</td>\n",
              "      <td>False</td>\n",
              "      <td>0</td>\n",
              "      <td>13</td>\n",
              "      <td>12</td>\n",
              "      <td>1</td>\n",
              "      <td>2996.0</td>\n",
              "      <td>1</td>\n",
              "      <td>1</td>\n",
              "      <td>2996.0</td>\n",
              "    </tr>\n",
              "  </tbody>\n",
              "</table>\n",
              "<p>1459 rows × 208 columns</p>\n",
              "</div>\n",
              "    <div class=\"colab-df-buttons\">\n",
              "\n",
              "  <div class=\"colab-df-container\">\n",
              "    <button class=\"colab-df-convert\" onclick=\"convertToInteractive('df-9df184ca-f20f-40f6-afc9-0b1361066867')\"\n",
              "            title=\"Convert this dataframe to an interactive table.\"\n",
              "            style=\"display:none;\">\n",
              "\n",
              "  <svg xmlns=\"http://www.w3.org/2000/svg\" height=\"24px\" viewBox=\"0 -960 960 960\">\n",
              "    <path d=\"M120-120v-720h720v720H120Zm60-500h600v-160H180v160Zm220 220h160v-160H400v160Zm0 220h160v-160H400v160ZM180-400h160v-160H180v160Zm440 0h160v-160H620v160ZM180-180h160v-160H180v160Zm440 0h160v-160H620v160Z\"/>\n",
              "  </svg>\n",
              "    </button>\n",
              "\n",
              "  <style>\n",
              "    .colab-df-container {\n",
              "      display:flex;\n",
              "      gap: 12px;\n",
              "    }\n",
              "\n",
              "    .colab-df-convert {\n",
              "      background-color: #E8F0FE;\n",
              "      border: none;\n",
              "      border-radius: 50%;\n",
              "      cursor: pointer;\n",
              "      display: none;\n",
              "      fill: #1967D2;\n",
              "      height: 32px;\n",
              "      padding: 0 0 0 0;\n",
              "      width: 32px;\n",
              "    }\n",
              "\n",
              "    .colab-df-convert:hover {\n",
              "      background-color: #E2EBFA;\n",
              "      box-shadow: 0px 1px 2px rgba(60, 64, 67, 0.3), 0px 1px 3px 1px rgba(60, 64, 67, 0.15);\n",
              "      fill: #174EA6;\n",
              "    }\n",
              "\n",
              "    .colab-df-buttons div {\n",
              "      margin-bottom: 4px;\n",
              "    }\n",
              "\n",
              "    [theme=dark] .colab-df-convert {\n",
              "      background-color: #3B4455;\n",
              "      fill: #D2E3FC;\n",
              "    }\n",
              "\n",
              "    [theme=dark] .colab-df-convert:hover {\n",
              "      background-color: #434B5C;\n",
              "      box-shadow: 0px 1px 3px 1px rgba(0, 0, 0, 0.15);\n",
              "      filter: drop-shadow(0px 1px 2px rgba(0, 0, 0, 0.3));\n",
              "      fill: #FFFFFF;\n",
              "    }\n",
              "  </style>\n",
              "\n",
              "    <script>\n",
              "      const buttonEl =\n",
              "        document.querySelector('#df-9df184ca-f20f-40f6-afc9-0b1361066867 button.colab-df-convert');\n",
              "      buttonEl.style.display =\n",
              "        google.colab.kernel.accessAllowed ? 'block' : 'none';\n",
              "\n",
              "      async function convertToInteractive(key) {\n",
              "        const element = document.querySelector('#df-9df184ca-f20f-40f6-afc9-0b1361066867');\n",
              "        const dataTable =\n",
              "          await google.colab.kernel.invokeFunction('convertToInteractive',\n",
              "                                                    [key], {});\n",
              "        if (!dataTable) return;\n",
              "\n",
              "        const docLinkHtml = 'Like what you see? Visit the ' +\n",
              "          '<a target=\"_blank\" href=https://colab.research.google.com/notebooks/data_table.ipynb>data table notebook</a>'\n",
              "          + ' to learn more about interactive tables.';\n",
              "        element.innerHTML = '';\n",
              "        dataTable['output_type'] = 'display_data';\n",
              "        await google.colab.output.renderOutput(dataTable, element);\n",
              "        const docLink = document.createElement('div');\n",
              "        docLink.innerHTML = docLinkHtml;\n",
              "        element.appendChild(docLink);\n",
              "      }\n",
              "    </script>\n",
              "  </div>\n",
              "\n",
              "\n",
              "<div id=\"df-b8ed9cf3-0ace-4a65-945f-9ae8548984c6\">\n",
              "  <button class=\"colab-df-quickchart\" onclick=\"quickchart('df-b8ed9cf3-0ace-4a65-945f-9ae8548984c6')\"\n",
              "            title=\"Suggest charts\"\n",
              "            style=\"display:none;\">\n",
              "\n",
              "<svg xmlns=\"http://www.w3.org/2000/svg\" height=\"24px\"viewBox=\"0 0 24 24\"\n",
              "     width=\"24px\">\n",
              "    <g>\n",
              "        <path d=\"M19 3H5c-1.1 0-2 .9-2 2v14c0 1.1.9 2 2 2h14c1.1 0 2-.9 2-2V5c0-1.1-.9-2-2-2zM9 17H7v-7h2v7zm4 0h-2V7h2v10zm4 0h-2v-4h2v4z\"/>\n",
              "    </g>\n",
              "</svg>\n",
              "  </button>\n",
              "\n",
              "<style>\n",
              "  .colab-df-quickchart {\n",
              "      --bg-color: #E8F0FE;\n",
              "      --fill-color: #1967D2;\n",
              "      --hover-bg-color: #E2EBFA;\n",
              "      --hover-fill-color: #174EA6;\n",
              "      --disabled-fill-color: #AAA;\n",
              "      --disabled-bg-color: #DDD;\n",
              "  }\n",
              "\n",
              "  [theme=dark] .colab-df-quickchart {\n",
              "      --bg-color: #3B4455;\n",
              "      --fill-color: #D2E3FC;\n",
              "      --hover-bg-color: #434B5C;\n",
              "      --hover-fill-color: #FFFFFF;\n",
              "      --disabled-bg-color: #3B4455;\n",
              "      --disabled-fill-color: #666;\n",
              "  }\n",
              "\n",
              "  .colab-df-quickchart {\n",
              "    background-color: var(--bg-color);\n",
              "    border: none;\n",
              "    border-radius: 50%;\n",
              "    cursor: pointer;\n",
              "    display: none;\n",
              "    fill: var(--fill-color);\n",
              "    height: 32px;\n",
              "    padding: 0;\n",
              "    width: 32px;\n",
              "  }\n",
              "\n",
              "  .colab-df-quickchart:hover {\n",
              "    background-color: var(--hover-bg-color);\n",
              "    box-shadow: 0 1px 2px rgba(60, 64, 67, 0.3), 0 1px 3px 1px rgba(60, 64, 67, 0.15);\n",
              "    fill: var(--button-hover-fill-color);\n",
              "  }\n",
              "\n",
              "  .colab-df-quickchart-complete:disabled,\n",
              "  .colab-df-quickchart-complete:disabled:hover {\n",
              "    background-color: var(--disabled-bg-color);\n",
              "    fill: var(--disabled-fill-color);\n",
              "    box-shadow: none;\n",
              "  }\n",
              "\n",
              "  .colab-df-spinner {\n",
              "    border: 2px solid var(--fill-color);\n",
              "    border-color: transparent;\n",
              "    border-bottom-color: var(--fill-color);\n",
              "    animation:\n",
              "      spin 1s steps(1) infinite;\n",
              "  }\n",
              "\n",
              "  @keyframes spin {\n",
              "    0% {\n",
              "      border-color: transparent;\n",
              "      border-bottom-color: var(--fill-color);\n",
              "      border-left-color: var(--fill-color);\n",
              "    }\n",
              "    20% {\n",
              "      border-color: transparent;\n",
              "      border-left-color: var(--fill-color);\n",
              "      border-top-color: var(--fill-color);\n",
              "    }\n",
              "    30% {\n",
              "      border-color: transparent;\n",
              "      border-left-color: var(--fill-color);\n",
              "      border-top-color: var(--fill-color);\n",
              "      border-right-color: var(--fill-color);\n",
              "    }\n",
              "    40% {\n",
              "      border-color: transparent;\n",
              "      border-right-color: var(--fill-color);\n",
              "      border-top-color: var(--fill-color);\n",
              "    }\n",
              "    60% {\n",
              "      border-color: transparent;\n",
              "      border-right-color: var(--fill-color);\n",
              "    }\n",
              "    80% {\n",
              "      border-color: transparent;\n",
              "      border-right-color: var(--fill-color);\n",
              "      border-bottom-color: var(--fill-color);\n",
              "    }\n",
              "    90% {\n",
              "      border-color: transparent;\n",
              "      border-bottom-color: var(--fill-color);\n",
              "    }\n",
              "  }\n",
              "</style>\n",
              "\n",
              "  <script>\n",
              "    async function quickchart(key) {\n",
              "      const quickchartButtonEl =\n",
              "        document.querySelector('#' + key + ' button');\n",
              "      quickchartButtonEl.disabled = true;  // To prevent multiple clicks.\n",
              "      quickchartButtonEl.classList.add('colab-df-spinner');\n",
              "      try {\n",
              "        const charts = await google.colab.kernel.invokeFunction(\n",
              "            'suggestCharts', [key], {});\n",
              "      } catch (error) {\n",
              "        console.error('Error during call to suggestCharts:', error);\n",
              "      }\n",
              "      quickchartButtonEl.classList.remove('colab-df-spinner');\n",
              "      quickchartButtonEl.classList.add('colab-df-quickchart-complete');\n",
              "    }\n",
              "    (() => {\n",
              "      let quickchartButtonEl =\n",
              "        document.querySelector('#df-b8ed9cf3-0ace-4a65-945f-9ae8548984c6 button');\n",
              "      quickchartButtonEl.style.display =\n",
              "        google.colab.kernel.accessAllowed ? 'block' : 'none';\n",
              "    })();\n",
              "  </script>\n",
              "</div>\n",
              "\n",
              "  <div id=\"id_291f15a3-8752-415b-aceb-7b2881131e9c\">\n",
              "    <style>\n",
              "      .colab-df-generate {\n",
              "        background-color: #E8F0FE;\n",
              "        border: none;\n",
              "        border-radius: 50%;\n",
              "        cursor: pointer;\n",
              "        display: none;\n",
              "        fill: #1967D2;\n",
              "        height: 32px;\n",
              "        padding: 0 0 0 0;\n",
              "        width: 32px;\n",
              "      }\n",
              "\n",
              "      .colab-df-generate:hover {\n",
              "        background-color: #E2EBFA;\n",
              "        box-shadow: 0px 1px 2px rgba(60, 64, 67, 0.3), 0px 1px 3px 1px rgba(60, 64, 67, 0.15);\n",
              "        fill: #174EA6;\n",
              "      }\n",
              "\n",
              "      [theme=dark] .colab-df-generate {\n",
              "        background-color: #3B4455;\n",
              "        fill: #D2E3FC;\n",
              "      }\n",
              "\n",
              "      [theme=dark] .colab-df-generate:hover {\n",
              "        background-color: #434B5C;\n",
              "        box-shadow: 0px 1px 3px 1px rgba(0, 0, 0, 0.15);\n",
              "        filter: drop-shadow(0px 1px 2px rgba(0, 0, 0, 0.3));\n",
              "        fill: #FFFFFF;\n",
              "      }\n",
              "    </style>\n",
              "    <button class=\"colab-df-generate\" onclick=\"generateWithVariable('x_test')\"\n",
              "            title=\"Generate code using this dataframe.\"\n",
              "            style=\"display:none;\">\n",
              "\n",
              "  <svg xmlns=\"http://www.w3.org/2000/svg\" height=\"24px\"viewBox=\"0 0 24 24\"\n",
              "       width=\"24px\">\n",
              "    <path d=\"M7,19H8.4L18.45,9,17,7.55,7,17.6ZM5,21V16.75L18.45,3.32a2,2,0,0,1,2.83,0l1.4,1.43a1.91,1.91,0,0,1,.58,1.4,1.91,1.91,0,0,1-.58,1.4L9.25,21ZM18.45,9,17,7.55Zm-12,3A5.31,5.31,0,0,0,4.9,8.1,5.31,5.31,0,0,0,1,6.5,5.31,5.31,0,0,0,4.9,4.9,5.31,5.31,0,0,0,6.5,1,5.31,5.31,0,0,0,8.1,4.9,5.31,5.31,0,0,0,12,6.5,5.46,5.46,0,0,0,6.5,12Z\"/>\n",
              "  </svg>\n",
              "    </button>\n",
              "    <script>\n",
              "      (() => {\n",
              "      const buttonEl =\n",
              "        document.querySelector('#id_291f15a3-8752-415b-aceb-7b2881131e9c button.colab-df-generate');\n",
              "      buttonEl.style.display =\n",
              "        google.colab.kernel.accessAllowed ? 'block' : 'none';\n",
              "\n",
              "      buttonEl.onclick = () => {\n",
              "        google.colab.notebook.generateWithVariable('x_test');\n",
              "      }\n",
              "      })();\n",
              "    </script>\n",
              "  </div>\n",
              "\n",
              "    </div>\n",
              "  </div>\n"
            ],
            "application/vnd.google.colaboratory.intrinsic+json": {
              "type": "dataframe",
              "variable_name": "x_test"
            }
          },
          "metadata": {},
          "execution_count": 90
        }
      ]
    },
    {
      "cell_type": "code",
      "source": [
        "sc.mean_"
      ],
      "metadata": {
        "colab": {
          "base_uri": "https://localhost:8080/"
        },
        "id": "Yj9py3hOgUS8",
        "outputId": "01f12107-2f0a-48b5-c1eb-45531fd1cfa0"
      },
      "execution_count": 91,
      "outputs": [
        {
          "output_type": "execute_result",
          "data": {
            "text/plain": [
              "array([ 7.30500000e+02,  5.68972603e+01,  6.99179459e+01,  1.05168281e+04,\n",
              "        2.99863014e+00,  6.09931507e+00,  5.57534247e+00,  1.97126781e+03,\n",
              "        1.98486575e+03,  1.03117123e+02,  2.39589041e+00,  2.08356164e+00,\n",
              "        3.56506849e+00,  3.01095890e+00,  1.65616438e+00,  3.57123288e+00,\n",
              "        1.27328767e+00,  4.65493151e+01,  5.67240411e+02,  1.05742945e+03,\n",
              "       -1.00000000e+00,  1.16262671e+03,  3.46992466e+02,  5.84452055e+00,\n",
              "        1.51546370e+03,  4.25342466e-01,  5.75342466e-02,  1.56506849e+00,\n",
              "        3.82876712e-01,  2.86643836e+00,  1.04657534e+00,  2.51164384e+00,\n",
              "        6.51780822e+00,  6.84178082e+00,  6.13013699e-01,  3.71575342e+00,\n",
              "        1.97997603e+03,  1.77123288e+00,  1.76712329e+00,  4.72980137e+02,\n",
              "        2.97671233e+00,  2.97534247e+00,  1.85616438e+00,  9.42445205e+01,\n",
              "        4.66602740e+01,  2.19541096e+01,  3.40958904e+00,  1.50609589e+01,\n",
              "        2.75890411e+00,  4.34890411e+01,  6.32191781e+00,  2.00781575e+03,\n",
              "        4.45205479e-02,  1.09589041e-02,  7.88356164e-01,  1.49315068e-01,\n",
              "        9.95890411e-01,  2.80821918e-02,  6.84931507e-03,  6.33561644e-01,\n",
              "        3.42465753e-02,  2.46575342e-02,  8.97945205e-01,  6.43835616e-02,\n",
              "        3.21917808e-02,  2.73972603e-03,  7.20547945e-01,  4.45205479e-02,\n",
              "        8.90410959e-03,  1.36986301e-03,  1.09589041e-02,  3.97260274e-02,\n",
              "        1.91780822e-02,  1.02739726e-01,  3.49315068e-02,  6.84931507e-02,\n",
              "        5.41095890e-02,  2.53424658e-02,  1.16438356e-02,  3.35616438e-02,\n",
              "        1.54109589e-01,  6.16438356e-03,  5.00000000e-02,  2.80821918e-02,\n",
              "        5.27397260e-02,  7.73972603e-02,  1.71232877e-02,  5.06849315e-02,\n",
              "        4.04109589e-02,  5.89041096e-02,  1.71232877e-02,  2.60273973e-02,\n",
              "        7.53424658e-03,  5.54794521e-02,  8.63013699e-01,  5.47945205e-03,\n",
              "        1.30136986e-02,  7.53424658e-03,  1.78082192e-02,  1.36986301e-03,\n",
              "        3.42465753e-03,  4.10958904e-03,  9.89726027e-01,  6.84931507e-04,\n",
              "        1.36986301e-03,  6.84931507e-04,  6.84931507e-04,  1.36986301e-03,\n",
              "        2.12328767e-02,  3.56164384e-02,  2.94520548e-02,  7.80821918e-02,\n",
              "        9.58904110e-03,  4.97260274e-01,  5.47945205e-03,  7.53424658e-03,\n",
              "        3.04794521e-01,  2.53424658e-02,  4.45205479e-02,  7.81506849e-01,\n",
              "        7.53424658e-03,  1.95890411e-01,  4.79452055e-03,  1.36986301e-03,\n",
              "        9.82191781e-01,  6.84931507e-04,  6.84931507e-04,  6.84931507e-04,\n",
              "        7.53424658e-03,  3.42465753e-03,  4.10958904e-03,  6.84931507e-04,\n",
              "        1.36986301e-03,  3.42465753e-02,  6.84931507e-04,  4.17808219e-02,\n",
              "        1.52054795e-01,  6.84931507e-04,  1.50684932e-01,  7.39726027e-02,\n",
              "        1.36986301e-03,  1.71232877e-02,  3.52739726e-01,  1.41095890e-01,\n",
              "        1.78082192e-02,  2.05479452e-03,  4.79452055e-03,  1.71232877e-02,\n",
              "        6.84931507e-04,  4.10958904e-02,  1.41780822e-01,  6.84931507e-03,\n",
              "        1.46575342e-01,  6.84931507e-04,  9.72602740e-02,  3.42465753e-03,\n",
              "        1.78082192e-02,  3.45205479e-01,  1.34931507e-01,  2.60273973e-02,\n",
              "        9.02054795e-01,  8.76712329e-02,  4.34246575e-01,  4.43150685e-01,\n",
              "        1.64383562e-02,  4.10958904e-03,  2.05479452e-03,  1.01369863e-01,\n",
              "        2.86301370e-01,  5.06849315e-02,  9.10958904e-02,  3.19863014e-01,\n",
              "        9.78082192e-01,  1.23287671e-02,  4.79452055e-03,  1.36986301e-03,\n",
              "        2.73972603e-03,  9.34931507e-01,  1.84931507e-02,  2.05479452e-03,\n",
              "        6.84931507e-04,  9.13698630e-01,  6.51369863e-01,  1.30136986e-02,\n",
              "        6.02739726e-02,  6.16438356e-03,  2.65068493e-01,  2.73972603e-03,\n",
              "        1.36986301e-03,  6.16438356e-03,  3.42465753e-03,  3.42465753e-03,\n",
              "        8.35616438e-02,  2.05479452e-03,  8.67808219e-01,  2.73972603e-03,\n",
              "        8.21917808e-03,  1.36986301e-02,  8.20547945e-01,  8.56164384e-02,\n",
              "        4.79452055e-03,  3.65479452e+01,  2.29500000e+01,  4.76712329e-01,\n",
              "        2.57289315e+03,  5.27397260e-01,  9.44520548e-01,  2.56704863e+03])"
            ]
          },
          "metadata": {},
          "execution_count": 91
        }
      ]
    },
    {
      "cell_type": "code",
      "source": [
        "sc.mean_.shape"
      ],
      "metadata": {
        "colab": {
          "base_uri": "https://localhost:8080/"
        },
        "id": "pj9jiitAgej0",
        "outputId": "5929849f-da1e-4722-fb3b-44c34463053a"
      },
      "execution_count": 92,
      "outputs": [
        {
          "output_type": "execute_result",
          "data": {
            "text/plain": [
              "(208,)"
            ]
          },
          "metadata": {},
          "execution_count": 92
        }
      ]
    },
    {
      "cell_type": "code",
      "source": [
        "sc.n_features_in_"
      ],
      "metadata": {
        "colab": {
          "base_uri": "https://localhost:8080/"
        },
        "id": "vuah9dp5gxY-",
        "outputId": "75616f0a-8ba5-47ec-a38d-bae3a996cc2d"
      },
      "execution_count": 93,
      "outputs": [
        {
          "output_type": "execute_result",
          "data": {
            "text/plain": [
              "208"
            ]
          },
          "metadata": {},
          "execution_count": 93
        }
      ]
    },
    {
      "cell_type": "code",
      "source": [
        "sc.scale_"
      ],
      "metadata": {
        "colab": {
          "base_uri": "https://localhost:8080/"
        },
        "id": "wcNn0mhdg9AF",
        "outputId": "304443e9-beba-45c1-bac3-e46d7437c8a8"
      },
      "execution_count": 94,
      "outputs": [
        {
          "output_type": "execute_result",
          "data": {
            "text/plain": [
              "array([4.21465598e+02, 4.22860820e+01, 2.20183141e+01, 9.97784611e+03,\n",
              "       5.23244637e-02, 1.38252284e+00, 1.11241818e+00, 3.01925588e+01,\n",
              "       2.06383353e+01, 1.80669468e+02, 5.74083750e-01, 3.50933666e-01,\n",
              "       6.77838271e-01, 2.84080658e-01, 1.03876722e+00, 2.06994007e+00,\n",
              "       8.69560674e-01, 1.61264017e+02, 4.41715605e+02, 4.38555057e+02,\n",
              "       1.00000000e+00, 3.86455322e+02, 4.36378914e+02, 4.86064268e+01,\n",
              "       5.25300394e+02, 5.18732867e-01, 2.38670868e-01, 5.50727099e-01,\n",
              "       5.02713131e-01, 8.15498620e-01, 2.20262727e-01, 6.63532501e-01,\n",
              "       1.62483655e+00, 6.67468828e-01, 6.44445572e-01, 6.03095707e-01,\n",
              "       2.47412107e+01, 8.11556842e-01, 7.47059036e-01, 2.13731608e+02,\n",
              "       2.41581858e-01, 2.32779996e-01, 4.96421800e-01, 1.25295863e+02,\n",
              "       6.62333334e+01, 6.10982138e+01, 2.93072887e+01, 5.57383170e+01,\n",
              "       4.01635452e+01, 4.95953090e+02, 2.70270015e+00, 1.32764022e+00,\n",
              "       2.06248561e-01, 1.04109589e-01, 4.08473650e-01, 3.56398764e-01,\n",
              "       6.39742160e-02, 1.65207694e-01, 8.24766752e-02, 4.81831181e-01,\n",
              "       1.81861891e-01, 1.55079142e-01, 3.02720355e-01, 2.45434958e-01,\n",
              "       1.76509122e-01, 5.22706412e-02, 4.48729990e-01, 2.06248561e-01,\n",
              "       9.39405473e-02, 3.69863014e-02, 1.04109589e-01, 1.95314798e-01,\n",
              "       1.37150586e-01, 3.03618634e-01, 1.83606363e-01, 2.52590259e-01,\n",
              "       2.26233820e-01, 1.57163053e-01, 1.07276543e-01, 1.80097918e-01,\n",
              "       3.61053768e-01, 7.82712204e-02, 2.17944947e-01, 1.65207694e-01,\n",
              "       2.23513416e-01, 2.67220741e-01, 1.29730801e-01, 2.19353526e-01,\n",
              "       1.96921084e-01, 2.35445143e-01, 1.29730801e-01, 1.59216745e-01,\n",
              "       8.64724332e-02, 2.28913701e-01, 3.43832888e-01, 7.38202388e-02,\n",
              "       1.13332883e-01, 8.64724332e-02, 1.32253871e-01, 3.69863014e-02,\n",
              "       5.84202812e-02, 6.39742160e-02, 1.00838574e-01, 2.61622319e-02,\n",
              "       3.69863014e-02, 2.61622319e-02, 2.61622319e-02, 3.69863014e-02,\n",
              "       1.44159778e-01, 1.85331885e-01, 1.69069901e-01, 2.68300882e-01,\n",
              "       9.74530214e-02, 4.99992494e-01, 7.38202388e-02, 8.64724332e-02,\n",
              "       4.60320346e-01, 1.57163053e-01, 2.06248561e-01, 4.13223782e-01,\n",
              "       8.64724332e-02, 3.96884565e-01, 6.90762848e-02, 3.69863014e-02,\n",
              "       1.32253871e-01, 2.61622319e-02, 2.61622319e-02, 2.61622319e-02,\n",
              "       8.64724332e-02, 5.84202812e-02, 6.39742160e-02, 2.61622319e-02,\n",
              "       3.69863014e-02, 1.81861891e-01, 2.61622319e-02, 2.00087943e-01,\n",
              "       3.59073995e-01, 2.61622319e-02, 3.57741503e-01, 2.61726301e-01,\n",
              "       3.69863014e-02, 1.29730801e-01, 4.77822573e-01, 3.48120439e-01,\n",
              "       1.32253871e-01, 4.52832457e-02, 6.90762848e-02, 1.29730801e-01,\n",
              "       2.61622319e-02, 1.98512010e-01, 3.48825200e-01, 8.24766752e-02,\n",
              "       3.53682077e-01, 2.61622319e-02, 2.96311851e-01, 5.84202812e-02,\n",
              "       1.32253871e-01, 4.75435228e-01, 3.41650399e-01, 1.59216745e-01,\n",
              "       2.97240546e-01, 2.82816173e-01, 4.95657631e-01, 4.96757642e-01,\n",
              "       1.27153988e-01, 6.39742160e-02, 4.52832457e-02, 3.01817849e-01,\n",
              "       4.52031963e-01, 2.19353526e-01, 2.87745424e-01, 4.66423269e-01,\n",
              "       1.46415224e-01, 1.10348397e-01, 6.90762848e-02, 3.69863014e-02,\n",
              "       5.22706412e-02, 2.46646679e-01, 1.34726219e-01, 4.52832457e-02,\n",
              "       2.61622319e-02, 2.80808553e-01, 4.76536635e-01, 1.13332883e-01,\n",
              "       2.37993741e-01, 7.82712204e-02, 4.41369672e-01, 5.22706412e-02,\n",
              "       3.69863014e-02, 7.82712204e-02, 5.84202812e-02, 5.84202812e-02,\n",
              "       2.76729282e-01, 4.52832457e-02, 3.38699150e-01, 5.22706412e-02,\n",
              "       9.02863400e-02, 1.16236731e-01, 3.83730393e-01, 2.79796826e-01,\n",
              "       6.90762848e-02, 3.02397910e+01, 2.06335833e+01, 4.99457390e-01,\n",
              "       8.23316390e+02, 4.99248826e-01, 2.28913701e-01, 8.21432963e+02])"
            ]
          },
          "metadata": {},
          "execution_count": 94
        }
      ]
    },
    {
      "cell_type": "code",
      "source": [
        "sc.n_samples_seen_"
      ],
      "metadata": {
        "colab": {
          "base_uri": "https://localhost:8080/"
        },
        "id": "udM1uEJPhARd",
        "outputId": "f25a3e8c-668b-4512-feba-403952d478c5"
      },
      "execution_count": 95,
      "outputs": [
        {
          "output_type": "execute_result",
          "data": {
            "text/plain": [
              "1460"
            ]
          },
          "metadata": {},
          "execution_count": 95
        }
      ]
    },
    {
      "cell_type": "markdown",
      "source": [
        "**Features extraction**"
      ],
      "metadata": {
        "id": "KarLPU1x73XD"
      }
    },
    {
      "cell_type": "markdown",
      "source": [
        "# **Regression models building and training**"
      ],
      "metadata": {
        "id": "6Ss3CP-KiLtL"
      }
    },
    {
      "cell_type": "code",
      "source": [
        "!pip install xgboost"
      ],
      "metadata": {
        "colab": {
          "base_uri": "https://localhost:8080/"
        },
        "id": "padk6SQxoJT6",
        "outputId": "91f05ca7-dbba-428e-fc2a-815604e0c3d3"
      },
      "execution_count": 96,
      "outputs": [
        {
          "output_type": "stream",
          "name": "stdout",
          "text": [
            "Requirement already satisfied: xgboost in /usr/local/lib/python3.10/dist-packages (2.1.2)\n",
            "Requirement already satisfied: numpy in /usr/local/lib/python3.10/dist-packages (from xgboost) (1.26.4)\n",
            "Requirement already satisfied: nvidia-nccl-cu12 in /usr/local/lib/python3.10/dist-packages (from xgboost) (2.23.4)\n",
            "Requirement already satisfied: scipy in /usr/local/lib/python3.10/dist-packages (from xgboost) (1.13.1)\n"
          ]
        }
      ]
    },
    {
      "cell_type": "code",
      "source": [
        "from sklearn.svm import SVR\n",
        "from sklearn.linear_model import LinearRegression\n",
        "from sklearn.linear_model import SGDRegressor\n",
        "from sklearn.neighbors import KNeighborsRegressor\n",
        "from sklearn.gaussian_process import GaussianProcessRegressor\n",
        "from sklearn.tree import DecisionTreeRegressor\n",
        "from sklearn.ensemble import RandomForestRegressor\n",
        "#from sklearn.ensemble import AdaBoostRegressor\n",
        "from sklearn.ensemble import GradientBoostingRegressor\n",
        "from sklearn.neural_network import MLPRegressor\n",
        "from xgboost import XGBRegressor\n",
        "from sklearn.isotonic import IsotonicRegression"
      ],
      "metadata": {
        "id": "VRV_gHdKlOlL"
      },
      "execution_count": 97,
      "outputs": []
    },
    {
      "cell_type": "code",
      "source": [
        "svr=SVR()\n",
        "lr=LinearRegression()\n",
        "sgdr=SGDRegressor()\n",
        "knr=KNeighborsRegressor()\n",
        "gpr=GaussianProcessRegressor()\n",
        "dtr=DecisionTreeRegressor()\n",
        "rfr=RandomForestRegressor()\n",
        "#abr=AdaBoostRegressor()\n",
        "gbr=GradientBoostingRegressor()\n",
        "mlpr=MLPRegressor()\n",
        "xgbr=XGBRegressor()"
      ],
      "metadata": {
        "id": "eRRiX4FYxi1y"
      },
      "execution_count": 98,
      "outputs": []
    },
    {
      "cell_type": "code",
      "source": [
        "models={\"a\":[svr],\"b\":[lr],\"c\":[sgdr],\"d\":[knr],\"e\":[gpr],\"f\":[dtr],\"g\":[rfr],\"h\":[gbr],\"i\":[mlpr],\"j\":[xgbr]}"
      ],
      "metadata": {
        "id": "nEYO3mzCxsP6"
      },
      "execution_count": 99,
      "outputs": []
    },
    {
      "cell_type": "code",
      "source": [
        "from sklearn.model_selection import cross_val_score, KFold\n",
        "from sklearn.metrics import make_scorer, r2_score\n",
        "\n",
        "def test_model(model, x_train=x_train, y_train=y_train):\n",
        "    cv = KFold(n_splits=7, shuffle=True, random_state=45)\n",
        "    r2 = make_scorer(r2_score)\n",
        "    r2_val_score = cross_val_score(model, x_train, y_train, cv=cv, scoring=r2)\n",
        "    score=[r2_val_score.mean()]\n",
        "    return score"
      ],
      "metadata": {
        "id": "0Zn9MWMin-g6"
      },
      "execution_count": 100,
      "outputs": []
    },
    {
      "cell_type": "code",
      "source": [
        "models_score=[]\n",
        "for model in models:\n",
        "    print(\"training model : \",models[model][0])\n",
        "    score = test_model(models[model][0],x_train, y_train)\n",
        "    print(\"score of model\",score)\n",
        "    models_score.append([models[model][0],score[0]])"
      ],
      "metadata": {
        "colab": {
          "base_uri": "https://localhost:8080/"
        },
        "id": "-Sak5uOctC4u",
        "outputId": "fa2c9482-d07e-4929-aace-084c40776ca3"
      },
      "execution_count": 101,
      "outputs": [
        {
          "output_type": "stream",
          "name": "stdout",
          "text": [
            "training model :  SVR()\n",
            "score of model [-0.05181418032041697]\n",
            "training model :  LinearRegression()\n",
            "score of model [-1.057257516928398e+21]\n",
            "training model :  SGDRegressor()\n",
            "score of model [-153.52763534468335]\n",
            "training model :  KNeighborsRegressor()\n",
            "score of model [0.7080613236817067]\n",
            "training model :  GaussianProcessRegressor()\n",
            "score of model [-5.382546054060212]\n",
            "training model :  DecisionTreeRegressor()\n",
            "score of model [0.7398743565169593]\n",
            "training model :  RandomForestRegressor()\n",
            "score of model [0.8551741986682814]\n",
            "training model :  GradientBoostingRegressor()\n",
            "score of model [0.8765255010222567]\n",
            "training model :  MLPRegressor()\n",
            "score of model [-4.958077301424708]\n",
            "training model :  XGBRegressor(base_score=None, booster=None, callbacks=None,\n",
            "             colsample_bylevel=None, colsample_bynode=None,\n",
            "             colsample_bytree=None, device=None, early_stopping_rounds=None,\n",
            "             enable_categorical=False, eval_metric=None, feature_types=None,\n",
            "             gamma=None, grow_policy=None, importance_type=None,\n",
            "             interaction_constraints=None, learning_rate=None, max_bin=None,\n",
            "             max_cat_threshold=None, max_cat_to_onehot=None,\n",
            "             max_delta_step=None, max_depth=None, max_leaves=None,\n",
            "             min_child_weight=None, missing=nan, monotone_constraints=None,\n",
            "             multi_strategy=None, n_estimators=None, n_jobs=None,\n",
            "             num_parallel_tree=None, random_state=None, ...)\n",
            "score of model [0.8603424963995419]\n"
          ]
        }
      ]
    },
    {
      "cell_type": "code",
      "source": [
        "models_score"
      ],
      "metadata": {
        "colab": {
          "base_uri": "https://localhost:8080/"
        },
        "id": "nomZZlAB9J6S",
        "outputId": "d042a45d-184a-4bad-e73f-492c8b9435f7"
      },
      "execution_count": 102,
      "outputs": [
        {
          "output_type": "execute_result",
          "data": {
            "text/plain": [
              "[[SVR(), -0.05181418032041697],\n",
              " [LinearRegression(), -1.057257516928398e+21],\n",
              " [SGDRegressor(), -153.52763534468335],\n",
              " [KNeighborsRegressor(), 0.7080613236817067],\n",
              " [GaussianProcessRegressor(), -5.382546054060212],\n",
              " [DecisionTreeRegressor(), 0.7398743565169593],\n",
              " [RandomForestRegressor(), 0.8551741986682814],\n",
              " [GradientBoostingRegressor(), 0.8765255010222567],\n",
              " [MLPRegressor(), -4.958077301424708],\n",
              " [XGBRegressor(base_score=None, booster=None, callbacks=None,\n",
              "               colsample_bylevel=None, colsample_bynode=None,\n",
              "               colsample_bytree=None, device=None, early_stopping_rounds=None,\n",
              "               enable_categorical=False, eval_metric=None, feature_types=None,\n",
              "               gamma=None, grow_policy=None, importance_type=None,\n",
              "               interaction_constraints=None, learning_rate=None, max_bin=None,\n",
              "               max_cat_threshold=None, max_cat_to_onehot=None,\n",
              "               max_delta_step=None, max_depth=None, max_leaves=None,\n",
              "               min_child_weight=None, missing=nan, monotone_constraints=None,\n",
              "               multi_strategy=None, n_estimators=None, n_jobs=None,\n",
              "               num_parallel_tree=None, random_state=None, ...),\n",
              "  0.8603424963995419]]"
            ]
          },
          "metadata": {},
          "execution_count": 102
        }
      ]
    },
    {
      "cell_type": "markdown",
      "source": [
        "## **Ploting** **graph**"
      ],
      "metadata": {
        "id": "R2bYRa7ziXIS"
      }
    },
    {
      "cell_type": "code",
      "source": [
        "import pandas as pd\n",
        "import seaborn as sns\n",
        "import matplotlib.pyplot as plt\n",
        "\n",
        "# Example models_score data\n",
        "models_score = [\n",
        "    ('SVR', -0.051874839807911535),\n",
        "    ('KNeighborsRegressor', 0.6852510746398471),\n",
        "    ('GaussianProcessRegressor', -5.3743105577749475 ),\n",
        "    ('DecisionTreeRegressor', 0.6592059405270246),\n",
        "    ('RandomForestRegressor', 0.8485509964258817 ),\n",
        "    ('GradientBoostingRegressor', 0.8747221578880422 ),\n",
        "    ('MLPRegressor', -4.987432628207839),\n",
        "    ('XGBRegressor', 0.8593973574975813),\n",
        "]\n",
        "\n",
        "# Create a DataFrame\n",
        "df = pd.DataFrame(models_score, columns=['Model', 'Mean_R2_Score'])\n",
        "\n",
        "# Plotting with Seaborn\n",
        "plt.figure(figsize=(12, 8))\n",
        "sns.barplot(data=df, y='Model', x='Mean_R2_Score', palette='deep')\n",
        "\n",
        "# Adding labels and title\n",
        "plt.xlabel('Mean R² Score')\n",
        "plt.ylabel('Models')\n",
        "plt.title('Comparison of Regression Models')\n",
        "\n",
        "# Set x-axis limits to give more space on the right\n",
        "plt.xlim(-6, 1.5)  # Adjust this range if necessary\n",
        "\n",
        "# Add the score values next to the bars\n",
        "for index, value in enumerate(df['Mean_R2_Score']):\n",
        "    plt.text(value, index, f'{value:.2f}', va='center', ha='left')\n",
        "\n",
        "plt.grid(axis='x')\n",
        "plt.show()"
      ],
      "metadata": {
        "colab": {
          "base_uri": "https://localhost:8080/",
          "height": 418
        },
        "id": "0pe2UyKhs8ip",
        "outputId": "a4c773cc-d6db-45ee-8495-44582c6e665e"
      },
      "execution_count": 106,
      "outputs": [
        {
          "output_type": "display_data",
          "data": {
            "text/plain": [
              "<Figure size 1200x800 with 1 Axes>"
            ],
            "image/png": "[encoded data removed]"
          },
          "metadata": {}
        }
      ]
    },
    {
      "cell_type": "markdown",
      "source": [
        "## **Prediction**"
      ],
      "metadata": {
        "id": "iwNuuJLXidX7"
      }
    },
    {
      "cell_type": "code",
      "source": [
        "import pandas as pd\n",
        "from sklearn.impute import SimpleImputer\n",
        "from sklearn.preprocessing import StandardScaler\n",
        "from sklearn.metrics import mean_squared_error, r2_score\n",
        "\n",
        "# Assuming x_train and x_test are pandas DataFrames initially\n",
        "\n",
        "# Get the original column names from x_train before preprocessing\n",
        "original_columns = x_train.columns\n",
        "\n",
        "# Scale and Impute the training data\n",
        "imputer = SimpleImputer(strategy='mean')\n",
        "scaler = StandardScaler()\n",
        "\n",
        "x_train = pd.DataFrame(imputer.fit_transform(x_train), columns=original_columns)\n",
        "x_train = pd.DataFrame(scaler.fit_transform(x_train), columns=original_columns)\n",
        "\n",
        "# Apply the same preprocessing to x_test using the original column names\n",
        "x_test = pd.DataFrame(imputer.transform(x_test), columns=original_columns)\n",
        "x_test = pd.DataFrame(scaler.transform(x_test), columns=original_columns)\n",
        "\n",
        "# Train each model and make predictions\n",
        "predictions = {}\n",
        "for model_name, model in models.items():\n",
        "    if isinstance(model, list):\n",
        "        model = model[0]\n",
        "\n",
        "    # Train the model on the training data\n",
        "    model.fit(x_train, y_train)\n",
        "\n",
        "    # Evaluate the model\n",
        "    y_train_pred = model.predict(x_train)\n",
        "    train_r2 = r2_score(y_train, y_train_pred)\n",
        "    train_rmse = mean_squared_error(y_train, y_train_pred, squared=False)\n",
        "    print(f\"{model_name} - Train R² Score: {train_r2:.2f}, Train RMSE: {train_rmse:.2f}\")\n",
        "\n",
        "    # Predict the house prices on x_test\n",
        "    y_pred = model.predict(x_test)\n",
        "    predictions[model_name] = y_pred\n",
        "\n",
        "# Print or save the predictions\n",
        "for model_name, y_pred in predictions.items():\n",
        "    print(f\"Predictions for {model_name}: {y_pred}\")"
      ],
      "metadata": {
        "colab": {
          "base_uri": "https://localhost:8080/"
        },
        "id": "junoCcTlvw0X",
        "outputId": "aee5a470-6e08-44b3-a2cc-8f3263430744"
      },
      "execution_count": 113,
      "outputs": [
        {
          "output_type": "stream",
          "name": "stdout",
          "text": [
            "a - Train R² Score: -0.05, Train RMSE: 81376.89\n",
            "b - Train R² Score: 0.92, Train RMSE: 22589.14\n",
            "c - Train R² Score: -10068.33, Train RMSE: 7969011.68\n",
            "d - Train R² Score: 0.81, Train RMSE: 34800.91\n",
            "e - Train R² Score: 1.00, Train RMSE: 0.00\n",
            "f - Train R² Score: 1.00, Train RMSE: 0.00\n",
            "g - Train R² Score: 0.98, Train RMSE: 11007.22\n",
            "h - Train R² Score: 0.97, Train RMSE: 14109.25\n",
            "i - Train R² Score: -4.63, Train RMSE: 188438.42\n",
            "j - Train R² Score: 1.00, Train RMSE: 1448.68\n",
            "Predictions for a: [163011.98754768 163011.98754768 163011.98754768 ... 163011.98754768\n",
            " 163011.98754768 163011.98754768]\n",
            "Predictions for b: [1.29369742e+20 1.46326136e+20 1.44247671e+20 ... 1.42074737e+20\n",
            " 1.31344061e+20 1.52525304e+20]\n",
            "Predictions for c: [3.56545325e+08 6.77697115e+08 5.13998990e+08 ... 5.96838852e+08\n",
            " 5.15551485e+08 7.01416633e+08]\n",
            "Predictions for d: [268590. 244490. 268590. ... 268590. 268590. 268590.]\n",
            "Predictions for e: [0. 0. 0. ... 0. 0. 0.]\n",
            "Predictions for f: [284000. 184750. 755000. ... 284000. 430000. 755000.]\n",
            "Predictions for g: [394736.54 387838.97 598938.65 ... 402013.94 364812.1  608319.61]\n",
            "Predictions for h: [329496.34816825 278552.75617998 476660.24949869 ... 337020.680307\n",
            " 334844.63774606 486155.07297521]\n",
            "Predictions for i: [ 7737495.28595895  6518601.82068601  9418592.58401812 ...\n",
            " 10908296.40393817  7130588.49335903  8796537.03766353]\n",
            "Predictions for j: [354766.28 284270.22 523366.44 ... 466701.72 331308.47 524078.  ]\n"
          ]
        }
      ]
    }
  ]
}